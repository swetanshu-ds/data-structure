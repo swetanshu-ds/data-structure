{
 "cells": [
  {
   "cell_type": "code",
   "execution_count": 3,
   "id": "5079db36",
   "metadata": {},
   "outputs": [
    {
     "data": {
      "text/plain": [
       "'f(n) = 5n\\ng(n) = n\\nf(n) = O(g(n)) ,,,it means  f(n)  <= c.(g(n))\\nfor the above statement to be true \\n5n<=c.n for all n,n>=1\\nc= 5 , 5n<=5n\\nf(n)= O(g(n))\\nnow value of constant c = 5\\n'"
      ]
     },
     "execution_count": 3,
     "metadata": {},
     "output_type": "execute_result"
    }
   ],
   "source": [
    "\"\"\"f(n) = 5n\n",
    "g(n) = n\n",
    "f(n) = O(g(n)) ,,,it means  f(n)  <= c.(g(n))\n",
    "for the above statement to be true \n",
    "5n<=c.n for all n,n>=1\n",
    "c= 5 , 5n<=5n\n",
    "f(n)= O(g(n))\n",
    "now value of constant c = 5\n",
    "\"\"\""
   ]
  },
  {
   "cell_type": "code",
   "execution_count": 4,
   "id": "f8c5d935",
   "metadata": {},
   "outputs": [
    {
     "data": {
      "text/plain": [
       "'    f(n) n^2\\ng(n)=n\\nf(n)=O(g(n)),it means f(n)=cg(n)   {mathematical definition}\\nn^2<=c.n  for all n,n>=1        \\nc=n for above equation to be satisfied   ////   but c is not a constant because c depends on the value of n so bigger n bigger c and smaller n smaller c\\nso    f(n)  is not equal to O(g(n))'"
      ]
     },
     "execution_count": 4,
     "metadata": {},
     "output_type": "execute_result"
    }
   ],
   "source": [
    "\"\"\"    f(n) n^2\n",
    "g(n)=n\n",
    "f(n)=O(g(n)),it means f(n)=cg(n)   {mathematical definition}\n",
    "n^2<=c.n  for all n,n>=1        \n",
    "c=n for above equation to be satisfied   ////   but c is not a constant because c depends on the value of n so bigger n bigger c and smaller n smaller c\n",
    "so    f(n)  is not equal to O(g(n))\"\"\""
   ]
  },
  {
   "cell_type": "markdown",
   "id": "d84aae87",
   "metadata": {},
   "source": [
    "### omega notation question"
   ]
  },
  {
   "cell_type": "code",
   "execution_count": 5,
   "id": "ea39edf4",
   "metadata": {},
   "outputs": [
    {
     "data": {
      "text/plain": [
       "'\\nf(n) = omega(g(n))\\nf(n) = n\\ng(n)=5n\\nf(n)>=c(g(n))\\nn>=c5n\\nc=1/5\\nf(n)=omega(g(n))\\n'"
      ]
     },
     "execution_count": 5,
     "metadata": {},
     "output_type": "execute_result"
    }
   ],
   "source": [
    "\"\"\"\n",
    "f(n) = omega(g(n))\n",
    "f(n) = n\n",
    "g(n)=5n\n",
    "f(n)>=c(g(n))\n",
    "n>=c5n\n",
    "c=1/5\n",
    "f(n)=omega(g(n))\n",
    "\"\"\""
   ]
  },
  {
   "cell_type": "code",
   "execution_count": 6,
   "id": "18d38575",
   "metadata": {},
   "outputs": [
    {
     "data": {
      "text/plain": [
       "'\\nf(n) = 5n\\ng(n)=n\\nf(n)=omega(g(n))\\n5n>=cn\\nc=1=> 5n>=1n\\nf(n)=omega(g(n))\\n'"
      ]
     },
     "execution_count": 6,
     "metadata": {},
     "output_type": "execute_result"
    }
   ],
   "source": [
    "#question 2\n",
    "\"\"\"\n",
    "f(n) = 5n\n",
    "g(n)=n\n",
    "f(n)=omega(g(n))\n",
    "5n>=cn\n",
    "c=1=> 5n>=1n\n",
    "f(n)=omega(g(n))\n",
    "\"\"\""
   ]
  },
  {
   "cell_type": "code",
   "execution_count": 8,
   "id": "1fb9a162",
   "metadata": {},
   "outputs": [
    {
     "data": {
      "text/plain": [
       "'f(n)=n^2   g(n)=n^2 +n+10\\nf(n)=omega(g(n))\\nc?\\nf(n)>=c(g(n))\\nc=1/2'"
      ]
     },
     "execution_count": 8,
     "metadata": {},
     "output_type": "execute_result"
    }
   ],
   "source": [
    "# questio  3\n",
    "\"\"\"\\\n",
    "f(n)=n^2   g(n)=n^2 +n+10\n",
    "f(n)=omega(g(n))\n",
    "c?\n",
    "f(n)>=c(g(n))\n",
    "c=1/2\"\"\""
   ]
  },
  {
   "cell_type": "code",
   "execution_count": 10,
   "id": "0b7fdfc1",
   "metadata": {},
   "outputs": [
    {
     "data": {
      "text/plain": [
       "'\\nf(n)=n\\ng(n)=(n)^2\\nc=1/n     ##  on solving\\nmeans c is not a constant \\nso f(n) is not equal to omega(g(n))\\n'"
      ]
     },
     "execution_count": 10,
     "metadata": {},
     "output_type": "execute_result"
    }
   ],
   "source": [
    "#question 4\n",
    "\"\"\"\n",
    "f(n)=n\n",
    "g(n)=(n)^2\n",
    "c=1/n     ##  on solving\n",
    "means c is not a constant \n",
    "so f(n) is not equal to omega(g(n))\n",
    "\"\"\""
   ]
  },
  {
   "cell_type": "markdown",
   "id": "4e7f1f5b",
   "metadata": {},
   "source": [
    "### theta notation"
   ]
  },
  {
   "cell_type": "code",
   "execution_count": 12,
   "id": "2c490b36",
   "metadata": {},
   "outputs": [
    {
     "data": {
      "text/plain": [
       "'\\nf(n)=theta(g(n))\\n'"
      ]
     },
     "execution_count": 12,
     "metadata": {},
     "output_type": "execute_result"
    }
   ],
   "source": [
    "\"\"\"\n",
    "f(n)=theta(g(n))\n",
    "\"\"\""
   ]
  },
  {
   "cell_type": "code",
   "execution_count": 13,
   "id": "60e5cf08",
   "metadata": {},
   "outputs": [
    {
     "data": {
      "text/plain": [
       "'\\nf(n)=n   g(n)=5n\\nf(n)=theta(g(n))\\n1..\\nomega       f(n)>=c(g(n))\\nn>=c.5n\\nc=1/5\\nf(n)=omega(g(n))\\n2...\\nbig O     f(n)<=c.g(n)\\nn<=c.5n\\nc=1\\nf(n)=O(g(n))\\nthus beacuse f(n) holds true for both omega as well as O,thus f(n)=theta (g(n))\\n'"
      ]
     },
     "execution_count": 13,
     "metadata": {},
     "output_type": "execute_result"
    }
   ],
   "source": [
    "# question \n",
    "\"\"\"\n",
    "f(n)=n   g(n)=5n\n",
    "f(n)=theta(g(n))\n",
    "1..\n",
    "omega       f(n)>=c(g(n))\n",
    "n>=c.5n\n",
    "c=1/5\n",
    "f(n)=omega(g(n))\n",
    "2...\n",
    "big O     f(n)<=c.g(n)\n",
    "n<=c.5n\n",
    "c=1\n",
    "f(n)=O(g(n))\n",
    "thus beacuse f(n) holds true for both omega as well as O,thus f(n)=theta (g(n))\n",
    "\"\"\"\n",
    "                                                                          "
   ]
  },
  {
   "cell_type": "code",
   "execution_count": 14,
   "id": "98789915",
   "metadata": {},
   "outputs": [
    {
     "data": {
      "text/plain": [
       "'\\nf(n) = n-10    g(n)=n+10\\nf(n)=theta(g(n))\\n1...\\nomega     f(n)>=c.g(n)\\nn-10 >=c.(n+10)\\nc=1/2\\nf(n)=omega(g(N))\\n2....\\nbio O\\nf(n)<=c.g(n)\\nn-10<=c(n+10)\\nc=1\\nf(n)=O(g(n))\\nwe cn say that f(n)=theta(g(n))  as it holds true for both 1and 2\\n'"
      ]
     },
     "execution_count": 14,
     "metadata": {},
     "output_type": "execute_result"
    }
   ],
   "source": [
    "#   question \n",
    "\"\"\"\n",
    "f(n) = n-10    g(n)=n+10\n",
    "f(n)=theta(g(n))\n",
    "1...\n",
    "omega     f(n)>=c.g(n)\n",
    "n-10 >=c.(n+10)\n",
    "c=1/2\n",
    "f(n)=omega(g(N))\n",
    "2....\n",
    "bio O\n",
    "f(n)<=c.g(n)\n",
    "n-10<=c(n+10)\n",
    "c=1\n",
    "f(n)=O(g(n))\n",
    "we cn say that f(n)=theta(g(n))  as it holds true for both 1and 2\n",
    "\"\"\""
   ]
  },
  {
   "cell_type": "code",
   "execution_count": 16,
   "id": "e4854fc9",
   "metadata": {},
   "outputs": [
    {
     "data": {
      "text/plain": [
       "'\\nf(n) =n\\ng(n)=(n)^2\\nf(n)=theta(g(n))\\nomega  f(n)>=c.g(n)\\nn>=c.(n)^2\\nc=1/n    not a constant\\nf(n) is not theta(g(n))\\ndont need to go any further as omega condition not satisfied\\n'"
      ]
     },
     "execution_count": 16,
     "metadata": {},
     "output_type": "execute_result"
    }
   ],
   "source": [
    "##  question \n",
    "\"\"\"\n",
    "f(n) =n\n",
    "g(n)=(n)^2\n",
    "f(n)=theta(g(n))\n",
    "omega  f(n)>=c.g(n)\n",
    "n>=c.(n)^2\n",
    "c=1/n    not a constant\n",
    "f(n) is not theta(g(n))\n",
    "dont need to go any further as omega condition not satisfied\n",
    "\"\"\""
   ]
  },
  {
   "cell_type": "code",
   "execution_count": null,
   "id": "0eeb9787",
   "metadata": {},
   "outputs": [],
   "source": []
  }
 ],
 "metadata": {
  "kernelspec": {
   "display_name": "Python 3",
   "language": "python",
   "name": "python3"
  },
  "language_info": {
   "codemirror_mode": {
    "name": "ipython",
    "version": 3
   },
   "file_extension": ".py",
   "mimetype": "text/x-python",
   "name": "python",
   "nbconvert_exporter": "python",
   "pygments_lexer": "ipython3",
   "version": "3.8.8"
  }
 },
 "nbformat": 4,
 "nbformat_minor": 5
}
