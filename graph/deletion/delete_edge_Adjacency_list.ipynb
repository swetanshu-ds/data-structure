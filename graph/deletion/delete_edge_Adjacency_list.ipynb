{
 "cells": [
  {
   "cell_type": "markdown",
   "id": "7ecf1e8b",
   "metadata": {},
   "source": [
    "####  undirected / unweighted"
   ]
  },
  {
   "cell_type": "code",
   "execution_count": 9,
   "id": "95b7051b",
   "metadata": {
    "scrolled": true
   },
   "outputs": [
    {
     "name": "stdout",
     "output_type": "stream",
     "text": [
      "{'A': ['B', 'C', 'D'], 'B': ['A', 'E', 'D'], 'C': ['A', 'D'], 'D': ['A', 'B', 'C', 'E'], 'E': ['B', 'D']}\n",
      "{'A': ['B', 'C', 'D'], 'B': ['A', 'E', 'D'], 'C': ['A'], 'D': ['A', 'B', 'E'], 'E': ['B', 'D']}\n"
     ]
    }
   ],
   "source": [
    "def add_node(v):\n",
    "    if v in graph:\n",
    "        print(v,\"is already present in graph\")\n",
    "    else:\n",
    "        graph[v] = []\n",
    "\n",
    "def add_edge(v1,v2):\n",
    "    if v1 not in graph:\n",
    "        print(v1,\"is not present in the graph\")\n",
    "    elif v2 not in graph:\n",
    "        print(v2,\"is not present in the graph\")\n",
    "    else:\n",
    "        # list1 = [v2,cost]\n",
    "        # list2 = [v1,cost]\n",
    "        graph[v1].append(v2)\n",
    "        graph[v2].append(v1)\n",
    "        \n",
    "def delete_node(v):\n",
    "    if v not in graph:\n",
    "        print(v,\"is not present in the graph\")\n",
    "    else:\n",
    "        graph.pop(v)\n",
    "        for i in graph:\n",
    "            list1 = graph[i]\n",
    "            for j in list1:\n",
    "                if v==j[0]:\n",
    "                    list1.remove(j)\n",
    "                    break\n",
    "                    \n",
    "                    \n",
    "def delete_edge(v1,v2):\n",
    "     if v1 not in graph:\n",
    "        print(v1,\"is not present in the graph\")\n",
    "     elif v2 not in graph:\n",
    "        print(v2,\"is not present in the graph\")\n",
    "     else:\n",
    "        graph[v1].remove(v2)\n",
    "        graph[v2].remove(v1)\n",
    "        \n",
    "        \n",
    "graph = {}\n",
    "add_node(\"A\")\n",
    "add_node(\"B\")\n",
    "add_node(\"C\")\n",
    "add_node(\"D\")\n",
    "add_node(\"E\")\n",
    "\n",
    "\n",
    "add_edge(\"A\",\"B\")\n",
    "add_edge(\"B\",\"E\")\n",
    "add_edge(\"A\",\"C\")\n",
    "add_edge(\"A\",\"D\")\n",
    "add_edge(\"B\",\"D\")\n",
    "add_edge(\"C\",\"D\")\n",
    "add_edge(\"E\",\"D\")\n",
    "print(graph)\n",
    "delete_edge(\"C\",\"D\")\n",
    "print(graph)"
   ]
  },
  {
   "cell_type": "markdown",
   "id": "2bef557e",
   "metadata": {},
   "source": [
    "#### directed  / unweighted"
   ]
  },
  {
   "cell_type": "code",
   "execution_count": 11,
   "id": "fcbf837f",
   "metadata": {},
   "outputs": [
    {
     "name": "stdout",
     "output_type": "stream",
     "text": [
      "{'A': ['B', 'C'], 'B': ['E', 'D'], 'C': [], 'D': [], 'E': [], 'F': ['C', 'G'], 'G': ['D']}\n",
      "{'A': ['B', 'C'], 'B': ['E', 'D'], 'C': [], 'D': [], 'E': [], 'F': ['G'], 'G': ['D']}\n"
     ]
    }
   ],
   "source": [
    "def add_node(v):\n",
    "    if v in graph:\n",
    "        print(v,\"is already present in graph\")\n",
    "    else:\n",
    "        graph[v] = []\n",
    "\n",
    "def add_edge(v1,v2):\n",
    "    if v1 not in graph:\n",
    "        print(v1,\"is not present in the graph\")\n",
    "    elif v2 not in graph:\n",
    "        print(v2,\"is not present in the graph\")\n",
    "    else:\n",
    "        # list1 = [v2,cost]\n",
    "        # list2 = [v1,cost]\n",
    "        graph[v1].append(v2)\n",
    "        # graph[v2].append(v1)\n",
    "        \n",
    "def delete_node(v):\n",
    "    if v not in graph:\n",
    "        print(v,\"is not present in the graph\")\n",
    "    else:\n",
    "        graph.pop(v)\n",
    "        for i in graph:\n",
    "            list1 = graph[i]\n",
    "            for j in list1:\n",
    "                if v==j[0]:\n",
    "                    list1.remove(j)\n",
    "                    break\n",
    "                    \n",
    "                    \n",
    "def delete_edge(v1,v2):\n",
    "     if v1 not in graph:\n",
    "        print(v1,\"is not present in the graph\")\n",
    "     elif v2 not in graph:\n",
    "        print(v2,\"is not present in the graph\")\n",
    "     else:\n",
    "        graph[v1].remove(v2)\n",
    "        # graph[v2].remove(v1)\n",
    "        \n",
    "        \n",
    "graph = {}\n",
    "add_node(\"A\")\n",
    "add_node(\"B\")\n",
    "add_node(\"C\")\n",
    "add_node(\"D\")\n",
    "add_node(\"E\")\n",
    "add_node(\"F\")\n",
    "add_node(\"G\")\n",
    "add_edge(\"A\",\"B\")\n",
    "add_edge(\"B\",\"E\")\n",
    "add_edge(\"A\",\"C\")\n",
    "add_edge(\"B\",\"D\")\n",
    "add_edge(\"F\",\"C\")\n",
    "add_edge(\"F\",\"G\")\n",
    "add_edge(\"G\",\"D\")\n",
    "print(graph)\n",
    "delete_edge(\"F\",\"C\")\n",
    "print(graph)"
   ]
  },
  {
   "cell_type": "markdown",
   "id": "d525e17e",
   "metadata": {},
   "source": [
    "##### undirected / weighted"
   ]
  },
  {
   "cell_type": "code",
   "execution_count": 13,
   "id": "6b8e171a",
   "metadata": {},
   "outputs": [
    {
     "name": "stdout",
     "output_type": "stream",
     "text": [
      "{'A': [['B', 10], ['C', 3], ['D', 4]], 'B': [['A', 10], ['E', 2], ['D', 5]], 'C': [['A', 3], ['D', 6]], 'D': [['A', 4], ['B', 5], ['C', 6], ['E', 7]], 'E': [['B', 2], ['D', 7]]}\n",
      "{'A': [['B', 10], ['C', 3], ['D', 4]], 'B': [['A', 10], ['E', 2], ['D', 5]], 'C': [['A', 3]], 'D': [['A', 4], ['B', 5], ['E', 7]], 'E': [['B', 2], ['D', 7]]}\n"
     ]
    }
   ],
   "source": [
    "def add_node(v):\n",
    "    if v in graph:\n",
    "        print(v,\"is already present in graph\")\n",
    "    else:\n",
    "        graph[v] = []\n",
    "\n",
    "def add_edge(v1,v2,cost):\n",
    "    if v1 not in graph:\n",
    "        print(v1,\"is not present in the graph\")\n",
    "    elif v2 not in graph:\n",
    "        print(v2,\"is not present in the graph\")\n",
    "    else:\n",
    "        list1 = [v2,cost]\n",
    "        list2 = [v1,cost]\n",
    "        graph[v1].append(list1)\n",
    "        graph[v2].append(list2)\n",
    "        \n",
    "def delete_node(v):\n",
    "    if v not in graph:\n",
    "        print(v,\"is not present in the graph\")\n",
    "    else:\n",
    "        graph.pop(v)\n",
    "        for i in graph:\n",
    "            list1 = graph[i]\n",
    "            for j in list1:\n",
    "                if v==j[0]:\n",
    "                    list1.remove(j)\n",
    "                    break\n",
    "                    \n",
    "                    \n",
    "def delete_edge(v1,v2,cost):\n",
    "     if v1 not in graph:\n",
    "        print(v1,\"is not present in the graph\")\n",
    "     elif v2 not in graph:\n",
    "        print(v2,\"is not present in the graph\")\n",
    "     else:\n",
    "        temp = [v1,cost]\n",
    "        temp1 = [v2,cost]\n",
    "        if temp1 in graph[v1]:\n",
    "            \n",
    "            graph[v1].remove(temp1)\n",
    "            graph[v2].remove(temp)\n",
    "        \n",
    "        \n",
    "graph = {}\n",
    "add_node(\"A\")\n",
    "add_node(\"B\")\n",
    "add_node(\"C\")\n",
    "add_node(\"D\")\n",
    "add_node(\"E\")\n",
    "add_edge(\"A\",\"B\",10)\n",
    "add_edge(\"B\",\"E\",2)\n",
    "add_edge(\"A\",\"C\",3)\n",
    "add_edge(\"A\",\"D\",4)\n",
    "add_edge(\"B\",\"D\",5)\n",
    "add_edge(\"C\",\"D\",6)\n",
    "add_edge(\"E\",\"D\",7)\n",
    "print(graph)\n",
    "delete_edge(\"C\",\"D\",6)\n",
    "print(graph)"
   ]
  },
  {
   "cell_type": "code",
   "execution_count": null,
   "id": "981c8eb6",
   "metadata": {},
   "outputs": [],
   "source": []
  },
  {
   "cell_type": "code",
   "execution_count": null,
   "id": "315cb7d8",
   "metadata": {},
   "outputs": [],
   "source": [
    "\n"
   ]
  }
 ],
 "metadata": {
  "kernelspec": {
   "display_name": "Python 3",
   "language": "python",
   "name": "python3"
  },
  "language_info": {
   "codemirror_mode": {
    "name": "ipython",
    "version": 3
   },
   "file_extension": ".py",
   "mimetype": "text/x-python",
   "name": "python",
   "nbconvert_exporter": "python",
   "pygments_lexer": "ipython3",
   "version": "3.8.8"
  }
 },
 "nbformat": 4,
 "nbformat_minor": 5
}
