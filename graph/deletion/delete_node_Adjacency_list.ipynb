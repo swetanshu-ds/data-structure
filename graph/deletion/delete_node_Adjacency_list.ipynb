{
 "cells": [
  {
   "cell_type": "markdown",
   "id": "b69abd52",
   "metadata": {},
   "source": [
    "#### directed and unweighted graph"
   ]
  },
  {
   "cell_type": "code",
   "execution_count": 3,
   "id": "15b4be8b",
   "metadata": {},
   "outputs": [
    {
     "name": "stdout",
     "output_type": "stream",
     "text": [
      "{'A': ['B', 'C'], 'B': [], 'C': []}\n"
     ]
    }
   ],
   "source": [
    "def add_node(v):\n",
    "    if v in graph:\n",
    "        print(v,\"is already present in graph\")\n",
    "    else:\n",
    "        graph[v] = []\n",
    "\n",
    "def add_edge(v1,v2):\n",
    "    if v1 not in graph:\n",
    "        print(v1,\"is not present in the graph\")\n",
    "    elif v2 not in graph:\n",
    "        print(v2,\"is not present in the graph\")\n",
    "    else:\n",
    "        graph[v1].append(v2)\n",
    "        \n",
    "def delete_node(v):\n",
    "    if v not in graph:\n",
    "        print(v,\"is not present in the graph\")\n",
    "    else:\n",
    "        graph.pop(v)\n",
    "        for i in graph:\n",
    "            list1 = graph[i]\n",
    "            if v in list1:\n",
    "                list1.remove(v)\n",
    "                \n",
    "graph = {}\n",
    "add_node(\"A\")\n",
    "add_node(\"B\")\n",
    "add_node(\"C\")\n",
    "add_edge(\"A\",\"B\")\n",
    "add_edge(\"A\",\"C\")\n",
    "print(graph)"
   ]
  },
  {
   "cell_type": "code",
   "execution_count": 4,
   "id": "743e926b",
   "metadata": {},
   "outputs": [
    {
     "name": "stdout",
     "output_type": "stream",
     "text": [
      "{'B': [], 'C': []}\n"
     ]
    }
   ],
   "source": [
    "def add_node(v):\n",
    "    if v in graph:\n",
    "        print(v,\"is already present in graph\")\n",
    "    else:\n",
    "        graph[v] = []\n",
    "\n",
    "def add_edge(v1,v2):\n",
    "    if v1 not in graph:\n",
    "        print(v1,\"is not present in the graph\")\n",
    "    elif v2 not in graph:\n",
    "        print(v2,\"is not present in the graph\")\n",
    "    else:\n",
    "        graph[v1].append(v2)\n",
    "        \n",
    "def delete_node(v):\n",
    "    if v not in graph:\n",
    "        print(v,\"is not present in the graph\")\n",
    "    else:\n",
    "        graph.pop(v)\n",
    "        for i in graph:\n",
    "            list1 = graph[i]\n",
    "            if v in list1:\n",
    "                list1.remove(v)\n",
    "                \n",
    "graph = {}\n",
    "add_node(\"A\")\n",
    "add_node(\"B\")\n",
    "add_node(\"C\")\n",
    "add_edge(\"A\",\"B\")\n",
    "add_edge(\"A\",\"C\")\n",
    "delete_node(\"A\")\n",
    "print(graph)"
   ]
  },
  {
   "cell_type": "code",
   "execution_count": 6,
   "id": "21d893a4",
   "metadata": {},
   "outputs": [
    {
     "name": "stdout",
     "output_type": "stream",
     "text": [
      "{'A': ['B', 'C'], 'B': ['E', 'D'], 'C': [], 'D': [], 'E': [], 'F': ['C', 'G'], 'G': ['D']}\n",
      "{'A': ['B'], 'B': ['E', 'D'], 'D': [], 'E': [], 'F': ['G'], 'G': ['D']}\n"
     ]
    }
   ],
   "source": [
    "def add_node(v):\n",
    "    if v in graph:\n",
    "        print(v,\"is already present in graph\")\n",
    "    else:\n",
    "        graph[v] = []\n",
    "\n",
    "def add_edge(v1,v2):\n",
    "    if v1 not in graph:\n",
    "        print(v1,\"is not present in the graph\")\n",
    "    elif v2 not in graph:\n",
    "        print(v2,\"is not present in the graph\")\n",
    "    else:\n",
    "        graph[v1].append(v2)\n",
    "        \n",
    "def delete_node(v):\n",
    "    if v not in graph:\n",
    "        print(v,\"is not present in the graph\")\n",
    "    else:\n",
    "        graph.pop(v)\n",
    "        for i in graph:\n",
    "            list1 = graph[i]\n",
    "            if v in list1:\n",
    "                list1.remove(v)\n",
    "                \n",
    "graph = {}\n",
    "add_node(\"A\")\n",
    "add_node(\"B\")\n",
    "add_node(\"C\")\n",
    "add_node(\"D\")\n",
    "add_node(\"E\")\n",
    "add_node(\"F\")\n",
    "add_node(\"G\")\n",
    "add_edge(\"A\",\"B\")\n",
    "add_edge(\"A\",\"C\")\n",
    "add_edge(\"B\",\"E\")\n",
    "add_edge(\"B\",\"D\")\n",
    "add_edge(\"F\",\"C\")\n",
    "add_edge(\"F\",\"G\")\n",
    "add_edge(\"G\",\"D\")\n",
    "print(graph)\n",
    "delete_node(\"C\")\n",
    "print(graph)"
   ]
  },
  {
   "cell_type": "markdown",
   "id": "15773ebe",
   "metadata": {},
   "source": [
    "####  undirected and unweighted graph"
   ]
  },
  {
   "cell_type": "code",
   "execution_count": 9,
   "id": "262ec459",
   "metadata": {},
   "outputs": [
    {
     "name": "stdout",
     "output_type": "stream",
     "text": [
      "{'A': ['B', 'C'], 'B': ['A', 'E', 'D'], 'C': ['A'], 'D': ['B', 'G'], 'E': ['B'], 'G': ['D']}\n",
      "{'A': ['B'], 'B': ['A', 'E', 'D'], 'D': ['B', 'G'], 'E': ['B'], 'G': ['D']}\n"
     ]
    }
   ],
   "source": [
    "def add_node(v):\n",
    "    if v in graph:\n",
    "        print(v,\"is already present in graph\")\n",
    "    else:\n",
    "        graph[v] = []\n",
    "\n",
    "def add_edge(v1,v2):\n",
    "    if v1 not in graph:\n",
    "        print(v1,\"is not present in the graph\")\n",
    "    elif v2 not in graph:\n",
    "        print(v2,\"is not present in the graph\")\n",
    "    else:\n",
    "        graph[v1].append(v2)\n",
    "        graph[v2].append(v1)\n",
    "        \n",
    "def delete_node(v):\n",
    "    if v not in graph:\n",
    "        print(v,\"is not present in the graph\")\n",
    "    else:\n",
    "        graph.pop(v)\n",
    "        for i in graph:\n",
    "            list1 = graph[i]\n",
    "            if v in list1:\n",
    "                list1.remove(v)\n",
    "                \n",
    "graph = {}\n",
    "add_node(\"A\")\n",
    "add_node(\"B\")\n",
    "add_node(\"C\")\n",
    "add_node(\"D\")\n",
    "add_node(\"E\")\n",
    "\n",
    "add_node(\"G\")\n",
    "add_edge(\"A\",\"B\")\n",
    "add_edge(\"A\",\"C\")\n",
    "add_edge(\"B\",\"E\")\n",
    "add_edge(\"B\",\"D\")\n",
    "\n",
    "add_edge(\"G\",\"D\")\n",
    "print(graph)\n",
    "delete_node(\"C\")\n",
    "print(graph)"
   ]
  },
  {
   "cell_type": "markdown",
   "id": "22408717",
   "metadata": {},
   "source": [
    "#####  weighted graph and undirected"
   ]
  },
  {
   "cell_type": "code",
   "execution_count": 10,
   "id": "7f90ab8e",
   "metadata": {},
   "outputs": [
    {
     "name": "stdout",
     "output_type": "stream",
     "text": [
      "{'A': [['B', 1], ['C', 2]], 'B': [['A', 1], ['E', 3], ['D', 4]], 'C': [['A', 2]], 'D': [['B', 4], ['G', 5]], 'E': [['B', 3]], 'G': [['D', 5]]}\n",
      "{'A': [['B', 1]], 'B': [['A', 1], ['E', 3], ['D', 4]], 'D': [['B', 4], ['G', 5]], 'E': [['B', 3]], 'G': [['D', 5]]}\n"
     ]
    }
   ],
   "source": [
    "def add_node(v):\n",
    "    if v in graph:\n",
    "        print(v,\"is already present in graph\")\n",
    "    else:\n",
    "        graph[v] = []\n",
    "\n",
    "def add_edge(v1,v2,cost):\n",
    "    if v1 not in graph:\n",
    "        print(v1,\"is not present in the graph\")\n",
    "    elif v2 not in graph:\n",
    "        print(v2,\"is not present in the graph\")\n",
    "    else:\n",
    "        list1 = [v2,cost]\n",
    "        list2 = [v1,cost]\n",
    "        graph[v1].append(list1)\n",
    "        graph[v2].append(list2)\n",
    "        \n",
    "def delete_node(v):\n",
    "    if v not in graph:\n",
    "        print(v,\"is not present in the graph\")\n",
    "    else:\n",
    "        graph.pop(v)\n",
    "        for i in graph:\n",
    "            list1 = graph[i]\n",
    "            for j in list1:\n",
    "                if v==j[0]:\n",
    "                    list1.remove(j)\n",
    "                    break\n",
    "graph = {}\n",
    "add_node(\"A\")\n",
    "add_node(\"B\")\n",
    "add_node(\"C\")\n",
    "add_node(\"D\")\n",
    "add_node(\"E\")\n",
    "\n",
    "add_node(\"G\")\n",
    "add_edge(\"A\",\"B\",1)\n",
    "add_edge(\"A\",\"C\",2)\n",
    "add_edge(\"B\",\"E\",3)\n",
    "add_edge(\"B\",\"D\",4)\n",
    "\n",
    "add_edge(\"G\",\"D\",5)\n",
    "print(graph)\n",
    "delete_node(\"C\")\n",
    "print(graph)"
   ]
  },
  {
   "cell_type": "code",
   "execution_count": null,
   "id": "645737f0",
   "metadata": {},
   "outputs": [],
   "source": []
  }
 ],
 "metadata": {
  "kernelspec": {
   "display_name": "Python 3",
   "language": "python",
   "name": "python3"
  },
  "language_info": {
   "codemirror_mode": {
    "name": "ipython",
    "version": 3
   },
   "file_extension": ".py",
   "mimetype": "text/x-python",
   "name": "python",
   "nbconvert_exporter": "python",
   "pygments_lexer": "ipython3",
   "version": "3.8.8"
  }
 },
 "nbformat": 4,
 "nbformat_minor": 5
}
