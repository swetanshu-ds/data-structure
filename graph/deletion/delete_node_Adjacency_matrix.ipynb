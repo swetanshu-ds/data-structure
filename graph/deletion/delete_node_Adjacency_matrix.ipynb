{
 "cells": [
  {
   "cell_type": "code",
   "execution_count": 8,
   "id": "8e5956f1",
   "metadata": {},
   "outputs": [
    {
     "name": "stdout",
     "output_type": "stream",
     "text": [
      "graph after deleting:\n",
      "0   10  10  0   \n",
      "nodes: ['A', 'B']\n"
     ]
    }
   ],
   "source": [
    "nodes = []\n",
    "node_count = 0\n",
    "graph = []\n",
    "\n",
    "def add_node(v):\n",
    "    global nodes,node_count,graph\n",
    "    if v in nodes:\n",
    "        print(v,\"is already present in \",nodes)\n",
    "    else:\n",
    "        node_count = node_count + 1\n",
    "        nodes.append(v)\n",
    "        for n in graph:\n",
    "            n.append(0)\n",
    "        temp = []\n",
    "        for  i in range(node_count):\n",
    "            temp.append(0)\n",
    "        graph.append(temp)\n",
    "\n",
    "\n",
    "\n",
    "def add_edge(v1,v2,e):\n",
    "    global graph\n",
    "    if v1 not in nodes:\n",
    "        print(\"No\")\n",
    "    elif v2 not in nodes:\n",
    "        print(\"No\")\n",
    "    else:\n",
    "        index1 = nodes.index(v1)\n",
    "        index2 = nodes.index(v2)\n",
    "        graph[index1][index2] = e\n",
    "        graph[index2][index1] = e\n",
    "        \n",
    "        \n",
    "def delete_node(v):\n",
    "    global node_count\n",
    "    if v not in nodes:\n",
    "        print(v,\"is not present in the graph\")\n",
    "    else:\n",
    "        index1 = nodes.index(v)\n",
    "        node_count = node_count -1\n",
    "        nodes.remove(v)\n",
    "        graph.pop(index1)\n",
    "        for  i in graph:\n",
    "            i.pop(index1)\n",
    "            \n",
    "def print_graph():\n",
    "        for i in range(node_count):\n",
    "            for j in range(node_count):\n",
    "                print(format(graph[i][j],\"<3\"),end = \" \")\n",
    "        print()\n",
    "            \n",
    "add_node(\"A\")\n",
    "add_node(\"B\")\n",
    "add_node(\"C\")\n",
    "add_edge(\"A\",\"B\",10)\n",
    "delete_node(\"C\")\n",
    "print(\"graph after deleting:\")\n",
    "print_graph()\n",
    "print(\"nodes:\",nodes)"
   ]
  },
  {
   "cell_type": "code",
   "execution_count": null,
   "id": "ef54780e",
   "metadata": {},
   "outputs": [],
   "source": []
  }
 ],
 "metadata": {
  "kernelspec": {
   "display_name": "Python 3",
   "language": "python",
   "name": "python3"
  },
  "language_info": {
   "codemirror_mode": {
    "name": "ipython",
    "version": 3
   },
   "file_extension": ".py",
   "mimetype": "text/x-python",
   "name": "python",
   "nbconvert_exporter": "python",
   "pygments_lexer": "ipython3",
   "version": "3.8.8"
  }
 },
 "nbformat": 4,
 "nbformat_minor": 5
}
