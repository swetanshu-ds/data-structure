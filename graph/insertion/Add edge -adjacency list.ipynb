{
 "cells": [
  {
   "cell_type": "code",
   "execution_count": 16,
   "id": "ccf990ca",
   "metadata": {},
   "outputs": [
    {
     "name": "stdout",
     "output_type": "stream",
     "text": [
      "{'A': []}\n"
     ]
    }
   ],
   "source": [
    "def add_node(v):\n",
    "    if v in graph:\n",
    "        print(v,\"is already present in graph\")\n",
    "    else:\n",
    "        graph[v] = []\n",
    "\n",
    "        \n",
    "graph = {}\n",
    "add_node(\"A\")\n",
    "print(graph)"
   ]
  },
  {
   "cell_type": "code",
   "execution_count": 17,
   "id": "12a8d7bc",
   "metadata": {},
   "outputs": [
    {
     "name": "stdout",
     "output_type": "stream",
     "text": [
      "A is already present in graph\n",
      "{'A': []}\n"
     ]
    }
   ],
   "source": [
    "def add_node(v):\n",
    "    if v in graph:\n",
    "        print(v,\"is already present in graph\")\n",
    "    else:\n",
    "        graph[v] = []\n",
    "\n",
    "        \n",
    "graph = {}\n",
    "add_node(\"A\")\n",
    "add_node(\"A\")\n",
    "print(graph)"
   ]
  },
  {
   "cell_type": "code",
   "execution_count": 20,
   "id": "25854409",
   "metadata": {},
   "outputs": [
    {
     "name": "stdout",
     "output_type": "stream",
     "text": [
      "{'A': ['B'], 'B': ['A'], 'C': []}\n"
     ]
    }
   ],
   "source": [
    "def add_node(v):\n",
    "    if v in graph:\n",
    "        print(v,\"is already present in graph\")\n",
    "    else:\n",
    "        graph[v] = []\n",
    "        \n",
    "def add_edge(v1,v2):\n",
    "    if v1 not in graph:\n",
    "        print(v1,\"is not present in graph\")\n",
    "    elif v2 not in graph:\n",
    "        print(v2,\"is not present in graph\")     \n",
    "    else:\n",
    "        graph[v1].append(v2)\n",
    "        graph[v2].append(v1)\n",
    "        \n",
    "        \n",
    "        \n",
    "graph = {}\n",
    "add_node(\"A\")\n",
    "add_node(\"B\")\n",
    "add_node('C')\n",
    "add_edge(\"A\",\"B\")\n",
    "print(graph)"
   ]
  },
  {
   "cell_type": "markdown",
   "id": "8c67f44f",
   "metadata": {},
   "source": [
    "#### for weighted graph"
   ]
  },
  {
   "cell_type": "code",
   "execution_count": 22,
   "id": "6d46d9c2",
   "metadata": {},
   "outputs": [
    {
     "name": "stdout",
     "output_type": "stream",
     "text": [
      "{'A': [['B', 20], ['C', 106]], 'B': [['A', 20]], 'C': [['A', 106]]}\n"
     ]
    }
   ],
   "source": [
    "def add_node(v):\n",
    "    if v in graph:\n",
    "        print(v,\"is already present in graph\")\n",
    "    else:\n",
    "        graph[v] = []\n",
    "        \n",
    "def add_edge(v1,v2,cost):\n",
    "    if v1 not in graph:\n",
    "        print(v1,\"is not present in graph\")\n",
    "    elif v2 not in graph:\n",
    "        print(v2,\"is not present in graph\")     \n",
    "    else:\n",
    "        list1 = [v2,cost]\n",
    "        list2 = [v1,cost]\n",
    "        graph[v1].append(list1)\n",
    "        graph[v2].append(list2)\n",
    "        \n",
    "        \n",
    "        \n",
    "graph = {}\n",
    "add_node(\"A\")\n",
    "add_node(\"B\")\n",
    "add_node('C')\n",
    "add_edge(\"A\",\"B\",20)\n",
    "add_edge(\"A\",\"C\",106)\n",
    "print(graph)"
   ]
  },
  {
   "cell_type": "markdown",
   "id": "844fac63",
   "metadata": {},
   "source": [
    "#####  for directed graph /weighted graph"
   ]
  },
  {
   "cell_type": "code",
   "execution_count": 23,
   "id": "8095bdfa",
   "metadata": {},
   "outputs": [
    {
     "name": "stdout",
     "output_type": "stream",
     "text": [
      "{'A': [['B', 20], ['C', 106]], 'B': [], 'C': []}\n"
     ]
    }
   ],
   "source": [
    "def add_node(v):\n",
    "    if v in graph:\n",
    "        print(v,\"is already present in graph\")\n",
    "    else:\n",
    "        graph[v] = []\n",
    "        \n",
    "def add_edge(v1,v2,cost):\n",
    "    if v1 not in graph:\n",
    "        print(v1,\"is not present in graph\")\n",
    "    elif v2 not in graph:\n",
    "        print(v2,\"is not present in graph\")     \n",
    "    else:\n",
    "        list1 = [v2,cost]\n",
    "        \n",
    "        graph[v1].append(list1)\n",
    "       \n",
    "        \n",
    "        \n",
    "        \n",
    "graph = {}\n",
    "add_node(\"A\")\n",
    "add_node(\"B\")\n",
    "add_node('C')\n",
    "add_edge(\"A\",\"B\",20)\n",
    "add_edge(\"A\",\"C\",106)\n",
    "print(graph)"
   ]
  },
  {
   "cell_type": "markdown",
   "id": "d4e3eced",
   "metadata": {},
   "source": [
    "#### for directed graph/unweighted"
   ]
  },
  {
   "cell_type": "code",
   "execution_count": 25,
   "id": "f9efc9d4",
   "metadata": {},
   "outputs": [
    {
     "name": "stdout",
     "output_type": "stream",
     "text": [
      "{'A': ['A', 'A'], 'B': [], 'C': []}\n"
     ]
    }
   ],
   "source": [
    "def add_node(v):\n",
    "    if v in graph:\n",
    "        print(v,\"is already present in graph\")\n",
    "    else:\n",
    "        graph[v] = []\n",
    "        \n",
    "def add_edge(v1,v2):\n",
    "    if v1 not in graph:\n",
    "        print(v1,\"is not present in graph\")\n",
    "    elif v2 not in graph:\n",
    "        print(v2,\"is not present in graph\")     \n",
    "    else:\n",
    "        \n",
    "        \n",
    "        graph[v1].append(v1)\n",
    "       \n",
    "        \n",
    "        \n",
    "        \n",
    "graph = {}\n",
    "add_node(\"A\")\n",
    "add_node(\"B\")\n",
    "add_node('C')\n",
    "add_edge(\"A\",\"B\")\n",
    "add_edge(\"A\",\"C\")\n",
    "print(graph)"
   ]
  },
  {
   "cell_type": "code",
   "execution_count": null,
   "id": "8bb08eb6",
   "metadata": {},
   "outputs": [],
   "source": []
  }
 ],
 "metadata": {
  "kernelspec": {
   "display_name": "Python 3",
   "language": "python",
   "name": "python3"
  },
  "language_info": {
   "codemirror_mode": {
    "name": "ipython",
    "version": 3
   },
   "file_extension": ".py",
   "mimetype": "text/x-python",
   "name": "python",
   "nbconvert_exporter": "python",
   "pygments_lexer": "ipython3",
   "version": "3.8.8"
  }
 },
 "nbformat": 4,
 "nbformat_minor": 5
}
