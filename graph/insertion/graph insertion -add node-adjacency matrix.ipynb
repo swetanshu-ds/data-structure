{
 "cells": [
  {
   "cell_type": "code",
   "execution_count": 7,
   "id": "df2c6a0a",
   "metadata": {},
   "outputs": [
    {
     "name": "stdout",
     "output_type": "stream",
     "text": [
      "Before adding nodes\n",
      "[]\n",
      "[]\n",
      "After adding nodes\n",
      "nodes ['A']\n",
      "[[0]]\n"
     ]
    }
   ],
   "source": [
    "def add_node(v):\n",
    "    global node_count       ###  if we will not use global keyword then we will get error\n",
    "    if v in nodes:\n",
    "        print(v,\"is already present in the graph\")\n",
    "    else:\n",
    "        node_count=node_count+1\n",
    "        nodes.append(v)\n",
    "        for n in graph:\n",
    "            n.append(0)\n",
    "        temp=[]\n",
    "        for i in range(node_count):\n",
    "            temp.append(0)\n",
    "        graph.append(temp)\n",
    "        \n",
    "        \n",
    "        \n",
    "nodes = []\n",
    "graph = []\n",
    "node_count=0\n",
    "print(\"Before adding nodes\")\n",
    "print(nodes)\n",
    "print(graph)\n",
    "add_node(\"A\")\n",
    "print(\"After adding nodes\")\n",
    "print(\"nodes\",nodes)\n",
    "print(graph)"
   ]
  },
  {
   "cell_type": "code",
   "execution_count": 8,
   "id": "2104ffa0",
   "metadata": {},
   "outputs": [
    {
     "name": "stdout",
     "output_type": "stream",
     "text": [
      "Before adding nodes\n",
      "[]\n",
      "[]\n",
      "After adding nodes\n",
      "nodes ['A', 'B']\n",
      "[[0, 0], [0, 0]]\n"
     ]
    }
   ],
   "source": [
    "def add_node(v):\n",
    "    global node_count\n",
    "    if v in nodes:\n",
    "        print(v,\"is already present in the graph\")\n",
    "    else:\n",
    "        node_count=node_count+1\n",
    "        nodes.append(v)\n",
    "        for n in graph:\n",
    "            n.append(0)\n",
    "        temp=[]\n",
    "        for i in range(node_count):\n",
    "            temp.append(0)\n",
    "        graph.append(temp)\n",
    "        \n",
    "        \n",
    "        \n",
    "nodes = []\n",
    "graph = []\n",
    "node_count=0\n",
    "print(\"Before adding nodes\")\n",
    "print(nodes)\n",
    "print(graph)\n",
    "add_node(\"A\")\n",
    "add_node(\"B\")\n",
    "print(\"After adding nodes\")\n",
    "print(\"nodes\",nodes)\n",
    "print(graph)    \n",
    "    "
   ]
  },
  {
   "cell_type": "code",
   "execution_count": 9,
   "id": "dc303bd5",
   "metadata": {},
   "outputs": [],
   "source": [
    "### if we want to print in matrix form"
   ]
  },
  {
   "cell_type": "code",
   "execution_count": 10,
   "id": "d6fbd63f",
   "metadata": {},
   "outputs": [
    {
     "name": "stdout",
     "output_type": "stream",
     "text": [
      "Before adding nodes\n",
      "[]\n",
      "[]\n",
      "After adding nodes\n",
      "nodes ['A', 'B']\n",
      "[[0, 0], [0, 0]]\n",
      "0 0 \n",
      "0 0 \n"
     ]
    }
   ],
   "source": [
    "def add_node(v):\n",
    "    global node_count\n",
    "    if v in nodes:\n",
    "        print(v,\"is already present in the graph\")\n",
    "    else:\n",
    "        node_count=node_count+1\n",
    "        nodes.append(v)\n",
    "        for n in graph:\n",
    "            n.append(0)\n",
    "        temp=[]\n",
    "        for i in range(node_count):\n",
    "            temp.append(0)\n",
    "        graph.append(temp)\n",
    "\n",
    "        \n",
    "def print_graph():\n",
    "    for i in range(node_count):\n",
    "          for j in range(node_count):\n",
    "                print(graph[i][j],end = \" \")\n",
    "          print()      \n",
    "        \n",
    "nodes = []\n",
    "graph = []\n",
    "node_count=0\n",
    "print(\"Before adding nodes\")\n",
    "print(nodes)\n",
    "print(graph)\n",
    "add_node(\"A\")\n",
    "add_node(\"B\")\n",
    "print(\"After adding nodes\")\n",
    "print(\"nodes\",nodes)\n",
    "print(graph)    \n",
    "print_graph()   "
   ]
  },
  {
   "cell_type": "code",
   "execution_count": 11,
   "id": "cc289475",
   "metadata": {},
   "outputs": [
    {
     "name": "stdout",
     "output_type": "stream",
     "text": [
      "Before adding nodes\n",
      "[]\n",
      "[]\n",
      "After adding nodes\n",
      "nodes ['A', 'B', 'D']\n",
      "[[0, 0, 0], [0, 0, 0], [0, 0, 0]]\n",
      "0 0 0 \n",
      "0 0 0 \n",
      "0 0 0 \n"
     ]
    }
   ],
   "source": [
    "def add_node(v):\n",
    "    global node_count\n",
    "    if v in nodes:\n",
    "        print(v,\"is already present in the graph\")\n",
    "    else:\n",
    "        node_count=node_count+1\n",
    "        nodes.append(v)\n",
    "        for n in graph:\n",
    "            n.append(0)\n",
    "        temp=[]\n",
    "        for i in range(node_count):\n",
    "            temp.append(0)\n",
    "        graph.append(temp)\n",
    "\n",
    "        \n",
    "def print_graph():\n",
    "    for i in range(node_count):\n",
    "          for j in range(node_count):\n",
    "                print(graph[i][j],end = \" \")\n",
    "          print()      \n",
    "        \n",
    "nodes = []\n",
    "graph = []\n",
    "node_count=0\n",
    "print(\"Before adding nodes\")\n",
    "print(nodes)\n",
    "print(graph)\n",
    "add_node(\"A\")\n",
    "add_node(\"B\")\n",
    "add_node(\"D\")\n",
    "print(\"After adding nodes\")\n",
    "print(\"nodes\",nodes)\n",
    "print(graph)    \n",
    "print_graph()   "
   ]
  },
  {
   "cell_type": "code",
   "execution_count": null,
   "id": "4fcd675e",
   "metadata": {},
   "outputs": [],
   "source": []
  }
 ],
 "metadata": {
  "kernelspec": {
   "display_name": "Python 3",
   "language": "python",
   "name": "python3"
  },
  "language_info": {
   "codemirror_mode": {
    "name": "ipython",
    "version": 3
   },
   "file_extension": ".py",
   "mimetype": "text/x-python",
   "name": "python",
   "nbconvert_exporter": "python",
   "pygments_lexer": "ipython3",
   "version": "3.8.8"
  }
 },
 "nbformat": 4,
 "nbformat_minor": 5
}
