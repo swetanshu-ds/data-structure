{
 "cells": [
  {
   "cell_type": "code",
   "execution_count": 1,
   "id": "2bbde900",
   "metadata": {},
   "outputs": [],
   "source": [
    "### we can implement stack using LISt and MODULES"
   ]
  },
  {
   "cell_type": "code",
   "execution_count": 2,
   "id": "fa074140",
   "metadata": {},
   "outputs": [],
   "source": [
    " #  to basic operation of sy=tack are push and pop"
   ]
  },
  {
   "cell_type": "code",
   "execution_count": 10,
   "id": "c7b34191",
   "metadata": {},
   "outputs": [],
   "source": [
    "###   push_______>>>>>   append  ----   add elements from starting in a list\n",
    "#####   pop______>>>>>   pop ----        removes element from last"
   ]
  },
  {
   "cell_type": "code",
   "execution_count": 1,
   "id": "1280aaf3",
   "metadata": {},
   "outputs": [],
   "source": [
    "stack =[]\n",
    "stack.append(10)\n",
    "stack.append(30)"
   ]
  },
  {
   "cell_type": "code",
   "execution_count": 2,
   "id": "fab6cfac",
   "metadata": {},
   "outputs": [
    {
     "data": {
      "text/plain": [
       "[10, 30]"
      ]
     },
     "execution_count": 2,
     "metadata": {},
     "output_type": "execute_result"
    }
   ],
   "source": [
    "stack"
   ]
  },
  {
   "cell_type": "code",
   "execution_count": 3,
   "id": "04742c00",
   "metadata": {},
   "outputs": [
    {
     "data": {
      "text/plain": [
       "30"
      ]
     },
     "execution_count": 3,
     "metadata": {},
     "output_type": "execute_result"
    }
   ],
   "source": [
    "stack.pop()"
   ]
  },
  {
   "cell_type": "code",
   "execution_count": 4,
   "id": "e5879969",
   "metadata": {},
   "outputs": [
    {
     "data": {
      "text/plain": [
       "10"
      ]
     },
     "execution_count": 4,
     "metadata": {},
     "output_type": "execute_result"
    }
   ],
   "source": [
    "stack.pop()"
   ]
  },
  {
   "cell_type": "code",
   "execution_count": 5,
   "id": "1eb62ad1",
   "metadata": {},
   "outputs": [
    {
     "ename": "IndexError",
     "evalue": "pop from empty list",
     "output_type": "error",
     "traceback": [
      "\u001b[1;31m---------------------------------------------------------------------------\u001b[0m",
      "\u001b[1;31mIndexError\u001b[0m                                Traceback (most recent call last)",
      "\u001b[1;32m<ipython-input-5-415460d3b717>\u001b[0m in \u001b[0;36m<module>\u001b[1;34m\u001b[0m\n\u001b[1;32m----> 1\u001b[1;33m \u001b[0mstack\u001b[0m\u001b[1;33m.\u001b[0m\u001b[0mpop\u001b[0m\u001b[1;33m(\u001b[0m\u001b[1;33m)\u001b[0m\u001b[1;33m\u001b[0m\u001b[1;33m\u001b[0m\u001b[0m\n\u001b[0m",
      "\u001b[1;31mIndexError\u001b[0m: pop from empty list"
     ]
    }
   ],
   "source": [
    "stack.pop()"
   ]
  },
  {
   "cell_type": "code",
   "execution_count": null,
   "id": "52741ae1",
   "metadata": {},
   "outputs": [],
   "source": [
    "len(stack)==0"
   ]
  },
  {
   "cell_type": "code",
   "execution_count": 6,
   "id": "fcce5871",
   "metadata": {},
   "outputs": [
    {
     "data": {
      "text/plain": [
       "False"
      ]
     },
     "execution_count": 6,
     "metadata": {},
     "output_type": "execute_result"
    }
   ],
   "source": [
    "len(stack)==2"
   ]
  },
  {
   "cell_type": "code",
   "execution_count": 7,
   "id": "bdece36d",
   "metadata": {},
   "outputs": [],
   "source": [
    "###  in collections module  there called \"\"  deque\"\"\n",
    "### we can use deque class as an stack \n",
    "###  we can use deque to add and remove element from one end as stack is LIFO"
   ]
  },
  {
   "cell_type": "code",
   "execution_count": 8,
   "id": "9097d075",
   "metadata": {},
   "outputs": [],
   "source": [
    "import collections"
   ]
  },
  {
   "cell_type": "code",
   "execution_count": 9,
   "id": "16390de6",
   "metadata": {},
   "outputs": [],
   "source": [
    "stack=collections.deque()"
   ]
  },
  {
   "cell_type": "code",
   "execution_count": 10,
   "id": "dd1c4129",
   "metadata": {},
   "outputs": [
    {
     "data": {
      "text/plain": [
       "deque([])"
      ]
     },
     "execution_count": 10,
     "metadata": {},
     "output_type": "execute_result"
    }
   ],
   "source": [
    "stack"
   ]
  },
  {
   "cell_type": "code",
   "execution_count": 11,
   "id": "f64a53ee",
   "metadata": {},
   "outputs": [],
   "source": [
    "stack.append(10)"
   ]
  },
  {
   "cell_type": "code",
   "execution_count": 12,
   "id": "0093350c",
   "metadata": {},
   "outputs": [],
   "source": [
    "stack.append(20)"
   ]
  },
  {
   "cell_type": "code",
   "execution_count": 13,
   "id": "f5e948e5",
   "metadata": {},
   "outputs": [],
   "source": [
    "stack.append(30)"
   ]
  },
  {
   "cell_type": "code",
   "execution_count": 14,
   "id": "f323f644",
   "metadata": {},
   "outputs": [
    {
     "data": {
      "text/plain": [
       "deque([10, 20, 30])"
      ]
     },
     "execution_count": 14,
     "metadata": {},
     "output_type": "execute_result"
    }
   ],
   "source": [
    "stack"
   ]
  },
  {
   "cell_type": "code",
   "execution_count": 15,
   "id": "fd78a174",
   "metadata": {},
   "outputs": [
    {
     "data": {
      "text/plain": [
       "30"
      ]
     },
     "execution_count": 15,
     "metadata": {},
     "output_type": "execute_result"
    }
   ],
   "source": [
    "stack.pop()"
   ]
  },
  {
   "cell_type": "code",
   "execution_count": 16,
   "id": "62db4ffa",
   "metadata": {},
   "outputs": [
    {
     "data": {
      "text/plain": [
       "20"
      ]
     },
     "execution_count": 16,
     "metadata": {},
     "output_type": "execute_result"
    }
   ],
   "source": [
    "stack.pop()"
   ]
  },
  {
   "cell_type": "code",
   "execution_count": 37,
   "id": "97c5934b",
   "metadata": {},
   "outputs": [
    {
     "data": {
      "text/plain": [
       "10"
      ]
     },
     "execution_count": 37,
     "metadata": {},
     "output_type": "execute_result"
    }
   ],
   "source": [
    "stack.pop()"
   ]
  },
  {
   "cell_type": "code",
   "execution_count": 38,
   "id": "c0a3f36e",
   "metadata": {},
   "outputs": [
    {
     "ename": "IndexError",
     "evalue": "pop from an empty deque",
     "output_type": "error",
     "traceback": [
      "\u001b[1;31m---------------------------------------------------------------------------\u001b[0m",
      "\u001b[1;31mIndexError\u001b[0m                                Traceback (most recent call last)",
      "\u001b[1;32m<ipython-input-38-415460d3b717>\u001b[0m in \u001b[0;36m<module>\u001b[1;34m\u001b[0m\n\u001b[1;32m----> 1\u001b[1;33m \u001b[0mstack\u001b[0m\u001b[1;33m.\u001b[0m\u001b[0mpop\u001b[0m\u001b[1;33m(\u001b[0m\u001b[1;33m)\u001b[0m\u001b[1;33m\u001b[0m\u001b[1;33m\u001b[0m\u001b[0m\n\u001b[0m",
      "\u001b[1;31mIndexError\u001b[0m: pop from an empty deque"
     ]
    }
   ],
   "source": [
    "stack.pop()"
   ]
  },
  {
   "cell_type": "code",
   "execution_count": 39,
   "id": "cc82a611",
   "metadata": {},
   "outputs": [
    {
     "ename": "TypeError",
     "evalue": "'collections.deque' object is not callable",
     "output_type": "error",
     "traceback": [
      "\u001b[1;31m---------------------------------------------------------------------------\u001b[0m",
      "\u001b[1;31mTypeError\u001b[0m                                 Traceback (most recent call last)",
      "\u001b[1;32m<ipython-input-39-0f0a1809f1be>\u001b[0m in \u001b[0;36m<module>\u001b[1;34m\u001b[0m\n\u001b[0;32m      1\u001b[0m \u001b[1;32mimport\u001b[0m \u001b[0mcollections\u001b[0m\u001b[1;33m\u001b[0m\u001b[1;33m\u001b[0m\u001b[0m\n\u001b[0;32m      2\u001b[0m \u001b[1;33m\u001b[0m\u001b[0m\n\u001b[1;32m----> 3\u001b[1;33m \u001b[1;32mnot\u001b[0m \u001b[0mstack\u001b[0m\u001b[1;33m(\u001b[0m\u001b[1;33m)\u001b[0m\u001b[1;33m\u001b[0m\u001b[1;33m\u001b[0m\u001b[0m\n\u001b[0m",
      "\u001b[1;31mTypeError\u001b[0m: 'collections.deque' object is not callable"
     ]
    }
   ],
   "source": [
    "import collections\n",
    "\n",
    "not stack()\n"
   ]
  },
  {
   "cell_type": "code",
   "execution_count": 40,
   "id": "96de0227",
   "metadata": {},
   "outputs": [],
   "source": [
    "####  queue modules  ---it is linear data structure where elemtns are inserted from one side and removed from another side"
   ]
  },
  {
   "cell_type": "code",
   "execution_count": 41,
   "id": "cf93eeb6",
   "metadata": {},
   "outputs": [],
   "source": [
    "##   in queue module there is a class called LIFOQueue  using this we can create stack"
   ]
  },
  {
   "cell_type": "code",
   "execution_count": 42,
   "id": "4449a4c1",
   "metadata": {},
   "outputs": [],
   "source": [
    "#  First in First out (FIFO)   or Last in last out (LILO)\n",
    "##  the elements inserted first will leave the queue first"
   ]
  },
  {
   "cell_type": "code",
   "execution_count": 43,
   "id": "57696bcb",
   "metadata": {},
   "outputs": [],
   "source": [
    "###  in LIFOQueue for push operation we use \"\" put\"\" method  and for the \"\"pop\"\" opertion we use \"\" get\"' method'"
   ]
  },
  {
   "cell_type": "code",
   "execution_count": 17,
   "id": "11672d2f",
   "metadata": {},
   "outputs": [],
   "source": [
    "import queue"
   ]
  },
  {
   "cell_type": "code",
   "execution_count": 18,
   "id": "d46925e0",
   "metadata": {},
   "outputs": [],
   "source": [
    "stack=queue.LifoQueue()"
   ]
  },
  {
   "cell_type": "code",
   "execution_count": 19,
   "id": "a4327ce5",
   "metadata": {},
   "outputs": [],
   "source": [
    "stack.put(10)"
   ]
  },
  {
   "cell_type": "code",
   "execution_count": 20,
   "id": "d6734bf4",
   "metadata": {},
   "outputs": [],
   "source": [
    "stack.put=(20)"
   ]
  },
  {
   "cell_type": "code",
   "execution_count": 21,
   "id": "b2bd1b5a",
   "metadata": {},
   "outputs": [],
   "source": [
    "stack.put=(30)"
   ]
  },
  {
   "cell_type": "code",
   "execution_count": 49,
   "id": "a7be483f",
   "metadata": {},
   "outputs": [
    {
     "data": {
      "text/plain": [
       "10"
      ]
     },
     "execution_count": 49,
     "metadata": {},
     "output_type": "execute_result"
    }
   ],
   "source": [
    "stack.get()"
   ]
  },
  {
   "cell_type": "code",
   "execution_count": null,
   "id": "32862641",
   "metadata": {},
   "outputs": [],
   "source": [
    "stack.get()"
   ]
  },
  {
   "cell_type": "code",
   "execution_count": null,
   "id": "335579a6",
   "metadata": {},
   "outputs": [],
   "source": [
    "stack.get()"
   ]
  },
  {
   "cell_type": "code",
   "execution_count": null,
   "id": "05f55af6",
   "metadata": {},
   "outputs": [],
   "source": [
    "####   stack = queue.LifoQueue(3)\n",
    "###  stack.put(10)\n",
    "###  stack.put(20)\n",
    "###  stack.put(30)\n",
    "##   stack.put(40,timeout=1)            ###  it will show full"
   ]
  },
  {
   "cell_type": "code",
   "execution_count": null,
   "id": "517b3751",
   "metadata": {},
   "outputs": [],
   "source": [
    "##  the process of adding the element and removing the elements is enqueue and dequeue\n",
    "###  th check whether queue is full or empty is  by ------ isFull   and isEmpty\n",
    "###  use of queue------------------------------------\n",
    "### whenever we wants to process things one  at time as they  come in first in first out"
   ]
  },
  {
   "cell_type": "markdown",
   "id": "a41cc2f0",
   "metadata": {},
   "source": [
    "#### queue implementation"
   ]
  },
  {
   "cell_type": "code",
   "execution_count": 1,
   "id": "35ecad61",
   "metadata": {},
   "outputs": [],
   "source": [
    "###   we can implemement queue in 2 ways ;;;;\n",
    "#   1   -----   list\n",
    "### 2 -----   modules"
   ]
  },
  {
   "cell_type": "code",
   "execution_count": 4,
   "id": "ef7fb025",
   "metadata": {},
   "outputs": [],
   "source": [
    "####   enqueue----append method\n",
    "###   dequeue ---pop method        --------    we need to mention the index "
   ]
  },
  {
   "cell_type": "code",
   "execution_count": 24,
   "id": "ba0b68df",
   "metadata": {},
   "outputs": [
    {
     "data": {
      "text/plain": [
       "[10]"
      ]
     },
     "execution_count": 24,
     "metadata": {},
     "output_type": "execute_result"
    }
   ],
   "source": [
    "queue=[]\n",
    "queue.append(10)\n",
    "queue"
   ]
  },
  {
   "cell_type": "code",
   "execution_count": 25,
   "id": "335b3963",
   "metadata": {},
   "outputs": [],
   "source": [
    "queue.append(20)\n",
    "queue.append(30)"
   ]
  },
  {
   "cell_type": "code",
   "execution_count": 26,
   "id": "7400a546",
   "metadata": {},
   "outputs": [
    {
     "data": {
      "text/plain": [
       "10"
      ]
     },
     "execution_count": 26,
     "metadata": {},
     "output_type": "execute_result"
    }
   ],
   "source": [
    "queue.pop(0)"
   ]
  },
  {
   "cell_type": "code",
   "execution_count": 27,
   "id": "57a43765",
   "metadata": {},
   "outputs": [
    {
     "data": {
      "text/plain": [
       "20"
      ]
     },
     "execution_count": 27,
     "metadata": {},
     "output_type": "execute_result"
    }
   ],
   "source": [
    "queue.pop(0)"
   ]
  },
  {
   "cell_type": "code",
   "execution_count": 28,
   "id": "4b57e314",
   "metadata": {},
   "outputs": [
    {
     "data": {
      "text/plain": [
       "30"
      ]
     },
     "execution_count": 28,
     "metadata": {},
     "output_type": "execute_result"
    }
   ],
   "source": [
    "queue.pop(0)"
   ]
  },
  {
   "cell_type": "code",
   "execution_count": 29,
   "id": "16832a05",
   "metadata": {},
   "outputs": [
    {
     "ename": "IndexError",
     "evalue": "pop from empty list",
     "output_type": "error",
     "traceback": [
      "\u001b[1;31m---------------------------------------------------------------------------\u001b[0m",
      "\u001b[1;31mIndexError\u001b[0m                                Traceback (most recent call last)",
      "\u001b[1;32m<ipython-input-29-038138b33931>\u001b[0m in \u001b[0;36m<module>\u001b[1;34m\u001b[0m\n\u001b[1;32m----> 1\u001b[1;33m \u001b[0mqueue\u001b[0m\u001b[1;33m.\u001b[0m\u001b[0mpop\u001b[0m\u001b[1;33m(\u001b[0m\u001b[1;36m0\u001b[0m\u001b[1;33m)\u001b[0m\u001b[1;33m\u001b[0m\u001b[1;33m\u001b[0m\u001b[0m\n\u001b[0m",
      "\u001b[1;31mIndexError\u001b[0m: pop from empty list"
     ]
    }
   ],
   "source": [
    "queue.pop(0)"
   ]
  },
  {
   "cell_type": "code",
   "execution_count": 30,
   "id": "c48a9704",
   "metadata": {},
   "outputs": [],
   "source": [
    "queue=[]"
   ]
  },
  {
   "cell_type": "code",
   "execution_count": 31,
   "id": "2092047d",
   "metadata": {},
   "outputs": [],
   "source": [
    "###  for enqueue operation"
   ]
  },
  {
   "cell_type": "code",
   "execution_count": 33,
   "id": "3789cae0",
   "metadata": {},
   "outputs": [],
   "source": [
    "queue.insert(0,10)                         #####  0---index,,,,,,,,value of 0 index ----10"
   ]
  },
  {
   "cell_type": "code",
   "execution_count": 34,
   "id": "1e441172",
   "metadata": {},
   "outputs": [
    {
     "data": {
      "text/plain": [
       "[30, 20, 10, 10]"
      ]
     },
     "execution_count": 34,
     "metadata": {},
     "output_type": "execute_result"
    }
   ],
   "source": [
    "queue.insert(0,20)\n",
    "queue.insert(0,30)\n",
    "queue"
   ]
  },
  {
   "cell_type": "code",
   "execution_count": 35,
   "id": "d8ac7b5f",
   "metadata": {},
   "outputs": [
    {
     "data": {
      "text/plain": [
       "10"
      ]
     },
     "execution_count": 35,
     "metadata": {},
     "output_type": "execute_result"
    }
   ],
   "source": [
    "queue.pop()"
   ]
  },
  {
   "cell_type": "code",
   "execution_count": 36,
   "id": "2f3ae729",
   "metadata": {},
   "outputs": [
    {
     "data": {
      "text/plain": [
       "10"
      ]
     },
     "execution_count": 36,
     "metadata": {},
     "output_type": "execute_result"
    }
   ],
   "source": [
    "queue.pop()"
   ]
  },
  {
   "cell_type": "code",
   "execution_count": 37,
   "id": "0d7b0477",
   "metadata": {},
   "outputs": [
    {
     "data": {
      "text/plain": [
       "20"
      ]
     },
     "execution_count": 37,
     "metadata": {},
     "output_type": "execute_result"
    }
   ],
   "source": [
    "queue.pop()"
   ]
  },
  {
   "cell_type": "code",
   "execution_count": 38,
   "id": "ff2cc641",
   "metadata": {},
   "outputs": [
    {
     "data": {
      "text/plain": [
       "30"
      ]
     },
     "execution_count": 38,
     "metadata": {},
     "output_type": "execute_result"
    }
   ],
   "source": [
    "queue.pop()"
   ]
  },
  {
   "cell_type": "code",
   "execution_count": 39,
   "id": "1eb52849",
   "metadata": {},
   "outputs": [
    {
     "ename": "IndexError",
     "evalue": "pop from empty list",
     "output_type": "error",
     "traceback": [
      "\u001b[1;31m---------------------------------------------------------------------------\u001b[0m",
      "\u001b[1;31mIndexError\u001b[0m                                Traceback (most recent call last)",
      "\u001b[1;32m<ipython-input-39-424d098a19ba>\u001b[0m in \u001b[0;36m<module>\u001b[1;34m\u001b[0m\n\u001b[1;32m----> 1\u001b[1;33m \u001b[0mqueue\u001b[0m\u001b[1;33m.\u001b[0m\u001b[0mpop\u001b[0m\u001b[1;33m(\u001b[0m\u001b[1;33m)\u001b[0m\u001b[1;33m\u001b[0m\u001b[1;33m\u001b[0m\u001b[0m\n\u001b[0m",
      "\u001b[1;31mIndexError\u001b[0m: pop from empty list"
     ]
    }
   ],
   "source": [
    "queue.pop()"
   ]
  },
  {
   "cell_type": "code",
   "execution_count": 40,
   "id": "2b793948",
   "metadata": {},
   "outputs": [],
   "source": [
    "queue=[]"
   ]
  },
  {
   "cell_type": "code",
   "execution_count": 41,
   "id": "d97dd4c1",
   "metadata": {},
   "outputs": [
    {
     "data": {
      "text/plain": [
       "True"
      ]
     },
     "execution_count": 41,
     "metadata": {},
     "output_type": "execute_result"
    }
   ],
   "source": [
    "not queue"
   ]
  },
  {
   "cell_type": "code",
   "execution_count": 42,
   "id": "a9666b40",
   "metadata": {},
   "outputs": [],
   "source": [
    "queue.append(10)\n",
    "queue.append(20)\n",
    "queue.append(30)"
   ]
  },
  {
   "cell_type": "code",
   "execution_count": 44,
   "id": "44570268",
   "metadata": {},
   "outputs": [
    {
     "data": {
      "text/plain": [
       "30"
      ]
     },
     "execution_count": 44,
     "metadata": {},
     "output_type": "execute_result"
    }
   ],
   "source": [
    "queue[-1]"
   ]
  },
  {
   "cell_type": "code",
   "execution_count": 45,
   "id": "8ba71847",
   "metadata": {},
   "outputs": [
    {
     "data": {
      "text/plain": [
       "10"
      ]
     },
     "execution_count": 45,
     "metadata": {},
     "output_type": "execute_result"
    }
   ],
   "source": [
    "queue[0]"
   ]
  },
  {
   "cell_type": "code",
   "execution_count": null,
   "id": "93ea5d7c",
   "metadata": {},
   "outputs": [],
   "source": []
  }
 ],
 "metadata": {
  "kernelspec": {
   "display_name": "Python 3",
   "language": "python",
   "name": "python3"
  },
  "language_info": {
   "codemirror_mode": {
    "name": "ipython",
    "version": 3
   },
   "file_extension": ".py",
   "mimetype": "text/x-python",
   "name": "python",
   "nbconvert_exporter": "python",
   "pygments_lexer": "ipython3",
   "version": "3.8.8"
  }
 },
 "nbformat": 4,
 "nbformat_minor": 5
}
