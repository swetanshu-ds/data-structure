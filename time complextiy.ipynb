{
 "cells": [
  {
   "cell_type": "code",
   "execution_count": 3,
   "id": "d3ce7354",
   "metadata": {},
   "outputs": [
    {
     "name": "stdout",
     "output_type": "stream",
     "text": [
      "4\n",
      "3\n",
      "2\n",
      "1\n"
     ]
    },
    {
     "data": {
      "text/plain": [
       "'\\nn = 5(assume)\\ni = 5\\n5>1=true\\ni=i-1 = 5-1 =4       1st time\\n----------------------\\ni = 4\\n4>1 = true\\ni = i-1 = 4-1 = 3     2nd time\\n-- --------------------\\ni = 3\\n3>1  = true\\ni = i-1 = 3-1 =2        3rd time\\n---------------------\\ni = 2\\n2>1  = true\\ni = i-1 = 2-1 = 1       4rth  time\\n----------------------\\ni = 1\\n1>1 = false          no execution\\n\\nnow it will not enter into while loop statement\\nso when  n = 5 count how many times the loop run \\nit is 4\\nso when n = 5   (4 time)\\nwhen  n  = 10     (9 time)\\nwjhen n =  1000    (999 time)\\nso order  = n-1\\n\\nbut when n = 1000000000000000  very large\\nn-1  =  almost n \\nso overall time complexity  =  O(n-1)  = O(n)\\n\\n'"
      ]
     },
     "execution_count": 3,
     "metadata": {},
     "output_type": "execute_result"
    }
   ],
   "source": [
    "i = 5\n",
    "while(i>1):\n",
    "    i = i -1\n",
    "    print(i)\n",
    "\"\"\"\n",
    "n = 5(assume)\n",
    "i = 5\n",
    "5>1=true\n",
    "i=i-1 = 5-1 =4       1st time\n",
    "----------------------\n",
    "i = 4\n",
    "4>1 = true\n",
    "i = i-1 = 4-1 = 3     2nd time\n",
    "-- --------------------\n",
    "i = 3\n",
    "3>1  = true\n",
    "i = i-1 = 3-1 =2        3rd time\n",
    "---------------------\n",
    "i = 2\n",
    "2>1  = true\n",
    "i = i-1 = 2-1 = 1       4rth  time\n",
    "----------------------\n",
    "i = 1\n",
    "1>1 = false          no execution\n",
    "\n",
    "now it will not enter into while loop statement\n",
    "so when  n = 5 count how many times the loop run \n",
    "it is 4\n",
    "so when n = 5   (4 time)\n",
    "when  n  = 10     (9 time)\n",
    "wjhen n =  1000    (999 time)\n",
    "so order  = n-1\n",
    "\n",
    "but when n = 1000000000000000  very large\n",
    "n-1  =  almost n \n",
    "so overall time complexity  =  O(n-1)  = O(n)\n",
    "\n",
    "\"\"\""
   ]
  },
  {
   "cell_type": "code",
   "execution_count": 4,
   "id": "b4b163df",
   "metadata": {},
   "outputs": [
    {
     "data": {
      "text/plain": [
       "'  time complexity does not mean time in seconds ,,,it mean  order of 1 ,order of log ,etc.'"
      ]
     },
     "execution_count": 4,
     "metadata": {},
     "output_type": "execute_result"
    }
   ],
   "source": [
    "\"\"\"  time complexity does not mean time in seconds ,,,it mean  order of 1 ,order of log ,etc.\"\"\""
   ]
  },
  {
   "cell_type": "code",
   "execution_count": 7,
   "id": "5d72f0f3",
   "metadata": {},
   "outputs": [
    {
     "name": "stdout",
     "output_type": "stream",
     "text": [
      "8\n",
      "6\n",
      "4\n",
      "2\n",
      "0\n"
     ]
    },
    {
     "data": {
      "text/plain": [
       "'\\nn = 10(assumption)\\ni  = i-2\\n10>=1  true\\ni =10-2= 8       first time\\n8>=1  true\\ni =8-2 = 6        2nd time\\n6>=1   true\\ni =6-2 = 4       3rd time\\n4>=1   true\\ni = 4-2 = 2        4 time\\n2>=1      treue\\ni = 2-2  =0         5 time\\n0>=2    false\\nn = 10      executed 5 time\\nn = 100      executed 50 time\\nn = 1000      executed   500 times\\nn             n/2   times\\noverall time complexity  ======\\n                     O(n/2)  =  O(n)'"
      ]
     },
     "execution_count": 7,
     "metadata": {},
     "output_type": "execute_result"
    }
   ],
   "source": [
    "i = 10\n",
    "while(i>=1):\n",
    "        i = i-2\n",
    "        print(i)\n",
    "\"\"\"\n",
    "n = 10(assumption)\n",
    "i  = i-2\n",
    "10>=1  true\n",
    "i =10-2= 8       first time\n",
    "8>=1  true\n",
    "i =8-2 = 6        2nd time\n",
    "6>=1   true\n",
    "i =6-2 = 4       3rd time\n",
    "4>=1   true\n",
    "i = 4-2 = 2        4 time\n",
    "2>=1      treue\n",
    "i = 2-2  =0         5 time\n",
    "0>=2    false\n",
    "n = 10      executed 5 time\n",
    "n = 100      executed 50 time\n",
    "n = 1000      executed   500 times\n",
    "n             n/2   times\n",
    "overall time complexity  ======\n",
    "                     O(n/2)  =  O(n)\"\"\""
   ]
  },
  {
   "cell_type": "code",
   "execution_count": 12,
   "id": "d82c893f",
   "metadata": {},
   "outputs": [
    {
     "name": "stdout",
     "output_type": "stream",
     "text": [
      "105\n",
      "70\n",
      "35\n",
      "0\n"
     ]
    },
    {
     "data": {
      "text/plain": [
       "'\\nO(n/35)  = O(n)\\n'"
      ]
     },
     "execution_count": 12,
     "metadata": {},
     "output_type": "execute_result"
    }
   ],
   "source": [
    "i = 140\n",
    "while(i>=1):\n",
    "    i = i-30\n",
    "    i = i-5\n",
    "    print(i)\n",
    "\"\"\"\n",
    "O(n/35)  = O(n)\n",
    "\"\"\""
   ]
  },
  {
   "cell_type": "code",
   "execution_count": 15,
   "id": "08b7d35a",
   "metadata": {},
   "outputs": [
    {
     "name": "stdout",
     "output_type": "stream",
     "text": [
      "2\n",
      "4\n",
      "8\n",
      "16\n",
      "32\n",
      "64\n"
     ]
    },
    {
     "data": {
      "text/plain": [
       "' time complexity  = 6 \\n    n = 64            6 time\\n    n  =32            5 time\\n    n = log_2(n)\\n    overall time complexity of above program :O(log_2(n))\\n'"
      ]
     },
     "execution_count": 15,
     "metadata": {},
     "output_type": "execute_result"
    }
   ],
   "source": [
    "i = 1\n",
    "while(i<64):\n",
    "    i = 2*i\n",
    "    print(i)\n",
    "\"\"\" time complexity  = 6 \n",
    "    n = 64            6 time\n",
    "    n  =32            5 time\n",
    "    n = log_2(n)\n",
    "    overall time complexity of above program :O(log_2(n))\n",
    "\"\"\"    "
   ]
  },
  {
   "cell_type": "code",
   "execution_count": 18,
   "id": "3d35e957",
   "metadata": {},
   "outputs": [
    {
     "data": {
      "text/plain": [
       "'  ----   time complexity is loop only\\n  --------   O(n) + O(n^2)  +  O(n^3)  = O(n^3) \\n  --------  not only loop but larger loop\\n  --------  and if in a program there is no loop at all then time complexity is O(1)'"
      ]
     },
     "execution_count": 18,
     "metadata": {},
     "output_type": "execute_result"
    }
   ],
   "source": [
    "\"\"\"  ----   time complexity is loop only\n",
    "  --------   O(n) + O(n^2)  +  O(n^3)  = O(n^3) \n",
    "  --------  not only loop but larger loop\n",
    "  --------  and if in a program there is no loop at all then time complexity is O(1)\"\"\""
   ]
  },
  {
   "cell_type": "code",
   "execution_count": null,
   "id": "9b58a24a",
   "metadata": {},
   "outputs": [],
   "source": []
  }
 ],
 "metadata": {
  "kernelspec": {
   "display_name": "Python 3",
   "language": "python",
   "name": "python3"
  },
  "language_info": {
   "codemirror_mode": {
    "name": "ipython",
    "version": 3
   },
   "file_extension": ".py",
   "mimetype": "text/x-python",
   "name": "python",
   "nbconvert_exporter": "python",
   "pygments_lexer": "ipython3",
   "version": "3.8.8"
  }
 },
 "nbformat": 4,
 "nbformat_minor": 5
}
