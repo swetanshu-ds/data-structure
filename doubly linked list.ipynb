{
 "cells": [
  {
   "cell_type": "code",
   "execution_count": 1,
   "id": "be0a9a2d",
   "metadata": {},
   "outputs": [],
   "source": [
    "# drawback of  doubly LL over Singly LL is that we need to store 2 links in Doubly LL\n",
    "#   as compared to 1 stored link in singly LL so it takes extra memory in Doubly LL"
   ]
  },
  {
   "cell_type": "code",
   "execution_count": null,
   "id": "cdef2f29",
   "metadata": {},
   "outputs": [],
   "source": []
  }
 ],
 "metadata": {
  "kernelspec": {
   "display_name": "Python 3",
   "language": "python",
   "name": "python3"
  },
  "language_info": {
   "codemirror_mode": {
    "name": "ipython",
    "version": 3
   },
   "file_extension": ".py",
   "mimetype": "text/x-python",
   "name": "python",
   "nbconvert_exporter": "python",
   "pygments_lexer": "ipython3",
   "version": "3.8.8"
  }
 },
 "nbformat": 4,
 "nbformat_minor": 5
}
