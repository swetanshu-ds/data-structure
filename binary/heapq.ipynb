{
 "cells": [
  {
   "cell_type": "code",
   "execution_count": 1,
   "id": "f1461a87",
   "metadata": {},
   "outputs": [],
   "source": [
    "import heapq"
   ]
  },
  {
   "cell_type": "code",
   "execution_count": 2,
   "id": "ff8e73b7",
   "metadata": {},
   "outputs": [],
   "source": [
    "heap = []"
   ]
  },
  {
   "cell_type": "code",
   "execution_count": 3,
   "id": "7bdf0377",
   "metadata": {},
   "outputs": [],
   "source": [
    "### push"
   ]
  },
  {
   "cell_type": "code",
   "execution_count": 4,
   "id": "7400d20e",
   "metadata": {},
   "outputs": [],
   "source": [
    "heapq.heappush(heap,10)"
   ]
  },
  {
   "cell_type": "code",
   "execution_count": 5,
   "id": "c9c6b099",
   "metadata": {},
   "outputs": [
    {
     "data": {
      "text/plain": [
       "[10]"
      ]
     },
     "execution_count": 5,
     "metadata": {},
     "output_type": "execute_result"
    }
   ],
   "source": [
    "heap"
   ]
  },
  {
   "cell_type": "code",
   "execution_count": 6,
   "id": "e4a420ee",
   "metadata": {},
   "outputs": [],
   "source": [
    "heapq.heappush(heap,1)"
   ]
  },
  {
   "cell_type": "code",
   "execution_count": 7,
   "id": "034fd19e",
   "metadata": {},
   "outputs": [
    {
     "data": {
      "text/plain": [
       "[1, 10]"
      ]
     },
     "execution_count": 7,
     "metadata": {},
     "output_type": "execute_result"
    }
   ],
   "source": [
    "heap"
   ]
  },
  {
   "cell_type": "code",
   "execution_count": 8,
   "id": "8aa1e487",
   "metadata": {},
   "outputs": [],
   "source": [
    "heapq.heappush(heap,129)"
   ]
  },
  {
   "cell_type": "code",
   "execution_count": 9,
   "id": "c52b6018",
   "metadata": {},
   "outputs": [
    {
     "data": {
      "text/plain": [
       "[1, 10, 129]"
      ]
     },
     "execution_count": 9,
     "metadata": {},
     "output_type": "execute_result"
    }
   ],
   "source": [
    "heap"
   ]
  },
  {
   "cell_type": "code",
   "execution_count": 10,
   "id": "585d406a",
   "metadata": {},
   "outputs": [],
   "source": [
    "### pop"
   ]
  },
  {
   "cell_type": "code",
   "execution_count": 11,
   "id": "0c307de9",
   "metadata": {},
   "outputs": [
    {
     "data": {
      "text/plain": [
       "1"
      ]
     },
     "execution_count": 11,
     "metadata": {},
     "output_type": "execute_result"
    }
   ],
   "source": [
    "heapq.heappop(heap)"
   ]
  },
  {
   "cell_type": "code",
   "execution_count": 12,
   "id": "e798e8c0",
   "metadata": {},
   "outputs": [
    {
     "data": {
      "text/plain": [
       "[10, 129]"
      ]
     },
     "execution_count": 12,
     "metadata": {},
     "output_type": "execute_result"
    }
   ],
   "source": [
    "heap"
   ]
  },
  {
   "cell_type": "code",
   "execution_count": 13,
   "id": "0a432454",
   "metadata": {},
   "outputs": [],
   "source": [
    "####    heapify"
   ]
  },
  {
   "cell_type": "code",
   "execution_count": 14,
   "id": "029d45e9",
   "metadata": {},
   "outputs": [],
   "source": [
    "list1= [1,3,5,2,4,6]"
   ]
  },
  {
   "cell_type": "code",
   "execution_count": 15,
   "id": "f18baad4",
   "metadata": {},
   "outputs": [],
   "source": [
    "heapq.heapify(list1)"
   ]
  },
  {
   "cell_type": "code",
   "execution_count": 16,
   "id": "45b3d3af",
   "metadata": {},
   "outputs": [
    {
     "data": {
      "text/plain": [
       "[1, 2, 5, 3, 4, 6]"
      ]
     },
     "execution_count": 16,
     "metadata": {},
     "output_type": "execute_result"
    }
   ],
   "source": [
    "list1"
   ]
  },
  {
   "cell_type": "code",
   "execution_count": 17,
   "id": "c9e2a7e1",
   "metadata": {},
   "outputs": [
    {
     "data": {
      "text/plain": [
       "1"
      ]
     },
     "execution_count": 17,
     "metadata": {},
     "output_type": "execute_result"
    }
   ],
   "source": [
    "heapq.heapreplace(list1,100)"
   ]
  },
  {
   "cell_type": "code",
   "execution_count": 18,
   "id": "f3748776",
   "metadata": {},
   "outputs": [
    {
     "data": {
      "text/plain": [
       "[2, 3, 5, 100, 4, 6]"
      ]
     },
     "execution_count": 18,
     "metadata": {},
     "output_type": "execute_result"
    }
   ],
   "source": [
    "list1"
   ]
  },
  {
   "cell_type": "code",
   "execution_count": 19,
   "id": "bab7cb64",
   "metadata": {},
   "outputs": [],
   "source": [
    "l=[1,20,5,4,3,6,2]"
   ]
  },
  {
   "cell_type": "code",
   "execution_count": 20,
   "id": "43109050",
   "metadata": {},
   "outputs": [
    {
     "data": {
      "text/plain": [
       "[1, 2, 3, 4]"
      ]
     },
     "execution_count": 20,
     "metadata": {},
     "output_type": "execute_result"
    }
   ],
   "source": [
    "heapq.nsmallest(4,l)"
   ]
  },
  {
   "cell_type": "code",
   "execution_count": 21,
   "id": "4b23c241",
   "metadata": {},
   "outputs": [
    {
     "data": {
      "text/plain": [
       "[1, 2, 3, 4, 5]"
      ]
     },
     "execution_count": 21,
     "metadata": {},
     "output_type": "execute_result"
    }
   ],
   "source": [
    "heapq.nsmallest(5,l)"
   ]
  },
  {
   "cell_type": "code",
   "execution_count": 22,
   "id": "34e9a9c0",
   "metadata": {},
   "outputs": [
    {
     "data": {
      "text/plain": [
       "[1, 2, 3, 4, 5, 6, 20]"
      ]
     },
     "execution_count": 22,
     "metadata": {},
     "output_type": "execute_result"
    }
   ],
   "source": [
    "heapq.nsmallest(7,l)"
   ]
  },
  {
   "cell_type": "code",
   "execution_count": 23,
   "id": "a83d2520",
   "metadata": {},
   "outputs": [
    {
     "data": {
      "text/plain": [
       "[20, 6, 5]"
      ]
     },
     "execution_count": 23,
     "metadata": {},
     "output_type": "execute_result"
    }
   ],
   "source": [
    "heapq.nlargest(3,l)"
   ]
  },
  {
   "cell_type": "code",
   "execution_count": null,
   "id": "5ebfd03c",
   "metadata": {},
   "outputs": [],
   "source": []
  },
  {
   "cell_type": "code",
   "execution_count": null,
   "id": "1e449979",
   "metadata": {},
   "outputs": [],
   "source": []
  },
  {
   "cell_type": "code",
   "execution_count": null,
   "id": "5cf92851",
   "metadata": {},
   "outputs": [],
   "source": []
  },
  {
   "cell_type": "code",
   "execution_count": null,
   "id": "29b0d1a7",
   "metadata": {},
   "outputs": [],
   "source": []
  },
  {
   "cell_type": "code",
   "execution_count": null,
   "id": "b0f3c73d",
   "metadata": {},
   "outputs": [],
   "source": []
  },
  {
   "cell_type": "code",
   "execution_count": 24,
   "id": "0b1d4dda",
   "metadata": {},
   "outputs": [],
   "source": [
    "L=[(1,'A'),(4,'B'),(2,'C')]"
   ]
  },
  {
   "cell_type": "code",
   "execution_count": 25,
   "id": "ab270a1d",
   "metadata": {},
   "outputs": [],
   "source": [
    "heapq.heapify(L)"
   ]
  },
  {
   "cell_type": "code",
   "execution_count": 26,
   "id": "b4324555",
   "metadata": {},
   "outputs": [
    {
     "data": {
      "text/plain": [
       "[(1, 'A'), (4, 'B'), (2, 'C')]"
      ]
     },
     "execution_count": 26,
     "metadata": {},
     "output_type": "execute_result"
    }
   ],
   "source": [
    "L"
   ]
  },
  {
   "cell_type": "code",
   "execution_count": 27,
   "id": "6ebed82b",
   "metadata": {},
   "outputs": [
    {
     "name": "stdout",
     "output_type": "stream",
     "text": [
      "[(1, 'A'), (4, 'B'), (2, 'C')]\n"
     ]
    }
   ],
   "source": [
    "print(L)"
   ]
  },
  {
   "cell_type": "code",
   "execution_count": 28,
   "id": "bbbc783d",
   "metadata": {},
   "outputs": [
    {
     "name": "stdout",
     "output_type": "stream",
     "text": [
      "(1, 'A')\n",
      "(2, 'C')\n",
      "(4, 'B')\n"
     ]
    }
   ],
   "source": [
    "for i in range(len(L)):\n",
    "    print(heapq.heappop(L))"
   ]
  },
  {
   "cell_type": "code",
   "execution_count": null,
   "id": "c9347bab",
   "metadata": {},
   "outputs": [],
   "source": []
  },
  {
   "cell_type": "code",
   "execution_count": null,
   "id": "e968594a",
   "metadata": {},
   "outputs": [],
   "source": []
  }
 ],
 "metadata": {
  "kernelspec": {
   "display_name": "Python 3",
   "language": "python",
   "name": "python3"
  },
  "language_info": {
   "codemirror_mode": {
    "name": "ipython",
    "version": 3
   },
   "file_extension": ".py",
   "mimetype": "text/x-python",
   "name": "python",
   "nbconvert_exporter": "python",
   "pygments_lexer": "ipython3",
   "version": "3.8.8"
  }
 },
 "nbformat": 4,
 "nbformat_minor": 5
}
