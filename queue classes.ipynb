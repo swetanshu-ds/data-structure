{
 "cells": [
  {
   "cell_type": "code",
   "execution_count": 1,
   "id": "66b26411",
   "metadata": {},
   "outputs": [],
   "source": [
    "import collections"
   ]
  },
  {
   "cell_type": "code",
   "execution_count": 2,
   "id": "52b0a7c3",
   "metadata": {},
   "outputs": [],
   "source": [
    "q=collections.deque()"
   ]
  },
  {
   "cell_type": "code",
   "execution_count": 3,
   "id": "d546b967",
   "metadata": {},
   "outputs": [
    {
     "data": {
      "text/plain": [
       "deque([])"
      ]
     },
     "execution_count": 3,
     "metadata": {},
     "output_type": "execute_result"
    }
   ],
   "source": [
    "q"
   ]
  },
  {
   "cell_type": "code",
   "execution_count": null,
   "id": "05102d9e",
   "metadata": {},
   "outputs": [],
   "source": [
    "###  appendleft is used to remove the elements from left in the queue ###  same for pop left"
   ]
  },
  {
   "cell_type": "code",
   "execution_count": 4,
   "id": "ad43501f",
   "metadata": {},
   "outputs": [],
   "source": [
    "q.appendleft(10)"
   ]
  },
  {
   "cell_type": "code",
   "execution_count": 5,
   "id": "929b0dc0",
   "metadata": {},
   "outputs": [],
   "source": [
    "q.appendleft(20)"
   ]
  },
  {
   "cell_type": "code",
   "execution_count": 7,
   "id": "85d89223",
   "metadata": {},
   "outputs": [],
   "source": [
    "q.appendleft(30)"
   ]
  },
  {
   "cell_type": "code",
   "execution_count": 8,
   "id": "5f60919e",
   "metadata": {},
   "outputs": [
    {
     "data": {
      "text/plain": [
       "deque([30, 20, 20, 10])"
      ]
     },
     "execution_count": 8,
     "metadata": {},
     "output_type": "execute_result"
    }
   ],
   "source": [
    "q"
   ]
  },
  {
   "cell_type": "code",
   "execution_count": 9,
   "id": "c0cb07d4",
   "metadata": {},
   "outputs": [
    {
     "data": {
      "text/plain": [
       "10"
      ]
     },
     "execution_count": 9,
     "metadata": {},
     "output_type": "execute_result"
    }
   ],
   "source": [
    "q.pop()"
   ]
  },
  {
   "cell_type": "code",
   "execution_count": 10,
   "id": "e6357ea4",
   "metadata": {},
   "outputs": [
    {
     "data": {
      "text/plain": [
       "20"
      ]
     },
     "execution_count": 10,
     "metadata": {},
     "output_type": "execute_result"
    }
   ],
   "source": [
    "q.pop()"
   ]
  },
  {
   "cell_type": "code",
   "execution_count": 11,
   "id": "04444f54",
   "metadata": {},
   "outputs": [
    {
     "data": {
      "text/plain": [
       "20"
      ]
     },
     "execution_count": 11,
     "metadata": {},
     "output_type": "execute_result"
    }
   ],
   "source": [
    "q.pop()"
   ]
  },
  {
   "cell_type": "code",
   "execution_count": 12,
   "id": "3685871d",
   "metadata": {},
   "outputs": [
    {
     "data": {
      "text/plain": [
       "30"
      ]
     },
     "execution_count": 12,
     "metadata": {},
     "output_type": "execute_result"
    }
   ],
   "source": [
    "q.pop()"
   ]
  },
  {
   "cell_type": "code",
   "execution_count": 13,
   "id": "d06d2d31",
   "metadata": {},
   "outputs": [
    {
     "ename": "IndexError",
     "evalue": "pop from an empty deque",
     "output_type": "error",
     "traceback": [
      "\u001b[1;31m---------------------------------------------------------------------------\u001b[0m",
      "\u001b[1;31mIndexError\u001b[0m                                Traceback (most recent call last)",
      "\u001b[1;32m<ipython-input-13-a75d510a0910>\u001b[0m in \u001b[0;36m<module>\u001b[1;34m\u001b[0m\n\u001b[1;32m----> 1\u001b[1;33m \u001b[0mq\u001b[0m\u001b[1;33m.\u001b[0m\u001b[0mpop\u001b[0m\u001b[1;33m(\u001b[0m\u001b[1;33m)\u001b[0m\u001b[1;33m\u001b[0m\u001b[1;33m\u001b[0m\u001b[0m\n\u001b[0m",
      "\u001b[1;31mIndexError\u001b[0m: pop from an empty deque"
     ]
    }
   ],
   "source": [
    "q.pop()"
   ]
  },
  {
   "cell_type": "code",
   "execution_count": 14,
   "id": "f5d321c1",
   "metadata": {},
   "outputs": [],
   "source": [
    "q.append(10)"
   ]
  },
  {
   "cell_type": "code",
   "execution_count": 15,
   "id": "c010d1e8",
   "metadata": {},
   "outputs": [],
   "source": [
    "q.append(30)"
   ]
  },
  {
   "cell_type": "code",
   "execution_count": 16,
   "id": "87c9029e",
   "metadata": {},
   "outputs": [],
   "source": [
    "q.append(20)"
   ]
  },
  {
   "cell_type": "code",
   "execution_count": 17,
   "id": "e3750cc6",
   "metadata": {},
   "outputs": [
    {
     "data": {
      "text/plain": [
       "deque([10, 30, 20])"
      ]
     },
     "execution_count": 17,
     "metadata": {},
     "output_type": "execute_result"
    }
   ],
   "source": [
    "q"
   ]
  },
  {
   "cell_type": "code",
   "execution_count": 18,
   "id": "34e5576d",
   "metadata": {},
   "outputs": [
    {
     "data": {
      "text/plain": [
       "10"
      ]
     },
     "execution_count": 18,
     "metadata": {},
     "output_type": "execute_result"
    }
   ],
   "source": [
    "q.popleft()"
   ]
  },
  {
   "cell_type": "code",
   "execution_count": 19,
   "id": "337ae1b3",
   "metadata": {},
   "outputs": [
    {
     "data": {
      "text/plain": [
       "30"
      ]
     },
     "execution_count": 19,
     "metadata": {},
     "output_type": "execute_result"
    }
   ],
   "source": [
    "q.popleft()"
   ]
  },
  {
   "cell_type": "code",
   "execution_count": 20,
   "id": "f758f697",
   "metadata": {},
   "outputs": [
    {
     "data": {
      "text/plain": [
       "20"
      ]
     },
     "execution_count": 20,
     "metadata": {},
     "output_type": "execute_result"
    }
   ],
   "source": [
    "q.popleft()"
   ]
  },
  {
   "cell_type": "code",
   "execution_count": 21,
   "id": "227486f3",
   "metadata": {},
   "outputs": [
    {
     "ename": "IndexError",
     "evalue": "pop from an empty deque",
     "output_type": "error",
     "traceback": [
      "\u001b[1;31m---------------------------------------------------------------------------\u001b[0m",
      "\u001b[1;31mIndexError\u001b[0m                                Traceback (most recent call last)",
      "\u001b[1;32m<ipython-input-21-7d9c4e36d778>\u001b[0m in \u001b[0;36m<module>\u001b[1;34m\u001b[0m\n\u001b[1;32m----> 1\u001b[1;33m \u001b[0mq\u001b[0m\u001b[1;33m.\u001b[0m\u001b[0mpopleft\u001b[0m\u001b[1;33m(\u001b[0m\u001b[1;33m)\u001b[0m\u001b[1;33m\u001b[0m\u001b[1;33m\u001b[0m\u001b[0m\n\u001b[0m",
      "\u001b[1;31mIndexError\u001b[0m: pop from an empty deque"
     ]
    }
   ],
   "source": [
    "q.popleft()"
   ]
  },
  {
   "cell_type": "code",
   "execution_count": 22,
   "id": "655611c3",
   "metadata": {},
   "outputs": [
    {
     "data": {
      "text/plain": [
       "True"
      ]
     },
     "execution_count": 22,
     "metadata": {},
     "output_type": "execute_result"
    }
   ],
   "source": [
    "not q"
   ]
  },
  {
   "cell_type": "code",
   "execution_count": 24,
   "id": "86107a95",
   "metadata": {},
   "outputs": [
    {
     "data": {
      "text/plain": [
       "True"
      ]
     },
     "execution_count": 24,
     "metadata": {},
     "output_type": "execute_result"
    }
   ],
   "source": [
    "len(q)==0"
   ]
  },
  {
   "cell_type": "code",
   "execution_count": 25,
   "id": "f77a50fb",
   "metadata": {},
   "outputs": [],
   "source": [
    "###  access the elements if queue"
   ]
  },
  {
   "cell_type": "code",
   "execution_count": 26,
   "id": "f521aa15",
   "metadata": {},
   "outputs": [],
   "source": [
    "q.append(10)"
   ]
  },
  {
   "cell_type": "code",
   "execution_count": 27,
   "id": "e6e7ee8e",
   "metadata": {},
   "outputs": [],
   "source": [
    "q.append(20)"
   ]
  },
  {
   "cell_type": "code",
   "execution_count": 28,
   "id": "aa3ef5b2",
   "metadata": {},
   "outputs": [],
   "source": [
    "q.append(30)"
   ]
  },
  {
   "cell_type": "code",
   "execution_count": 29,
   "id": "1dc55132",
   "metadata": {},
   "outputs": [
    {
     "data": {
      "text/plain": [
       "30"
      ]
     },
     "execution_count": 29,
     "metadata": {},
     "output_type": "execute_result"
    }
   ],
   "source": [
    "q[-1]"
   ]
  },
  {
   "cell_type": "code",
   "execution_count": 30,
   "id": "ffa2658c",
   "metadata": {},
   "outputs": [
    {
     "data": {
      "text/plain": [
       "10"
      ]
     },
     "execution_count": 30,
     "metadata": {},
     "output_type": "execute_result"
    }
   ],
   "source": [
    "q[0]"
   ]
  },
  {
   "cell_type": "code",
   "execution_count": 31,
   "id": "c34132ef",
   "metadata": {},
   "outputs": [],
   "source": [
    "####   now another class called as Queue   from module name is queue\n",
    "###  queue  module contains different class   like Queue  ,priority Queue,LIFO Queue"
   ]
  },
  {
   "cell_type": "code",
   "execution_count": 32,
   "id": "838e7475",
   "metadata": {},
   "outputs": [],
   "source": [
    "import queue"
   ]
  },
  {
   "cell_type": "code",
   "execution_count": 34,
   "id": "05383690",
   "metadata": {},
   "outputs": [],
   "source": [
    "q=queue.Queue()"
   ]
  },
  {
   "cell_type": "code",
   "execution_count": 35,
   "id": "e6de6756",
   "metadata": {},
   "outputs": [],
   "source": [
    "q.put(10)\n",
    "q.put(20)\n",
    "q.put(34)"
   ]
  },
  {
   "cell_type": "code",
   "execution_count": 36,
   "id": "669f0e7e",
   "metadata": {},
   "outputs": [
    {
     "data": {
      "text/plain": [
       "<queue.Queue at 0x1beda562d90>"
      ]
     },
     "execution_count": 36,
     "metadata": {},
     "output_type": "execute_result"
    }
   ],
   "source": [
    "q"
   ]
  },
  {
   "cell_type": "code",
   "execution_count": 37,
   "id": "1d73baae",
   "metadata": {},
   "outputs": [
    {
     "data": {
      "text/plain": [
       "10"
      ]
     },
     "execution_count": 37,
     "metadata": {},
     "output_type": "execute_result"
    }
   ],
   "source": [
    "q.get()"
   ]
  },
  {
   "cell_type": "code",
   "execution_count": 38,
   "id": "9715fc7d",
   "metadata": {},
   "outputs": [
    {
     "data": {
      "text/plain": [
       "20"
      ]
     },
     "execution_count": 38,
     "metadata": {},
     "output_type": "execute_result"
    }
   ],
   "source": [
    "q.get()"
   ]
  },
  {
   "cell_type": "code",
   "execution_count": 39,
   "id": "dd46da4e",
   "metadata": {},
   "outputs": [
    {
     "data": {
      "text/plain": [
       "34"
      ]
     },
     "execution_count": 39,
     "metadata": {},
     "output_type": "execute_result"
    }
   ],
   "source": [
    "q.get()"
   ]
  },
  {
   "cell_type": "code",
   "execution_count": null,
   "id": "07c20a1c",
   "metadata": {},
   "outputs": [],
   "source": []
  }
 ],
 "metadata": {
  "kernelspec": {
   "display_name": "Python 3",
   "language": "python",
   "name": "python3"
  },
  "language_info": {
   "codemirror_mode": {
    "name": "ipython",
    "version": 3
   },
   "file_extension": ".py",
   "mimetype": "text/x-python",
   "name": "python",
   "nbconvert_exporter": "python",
   "pygments_lexer": "ipython3",
   "version": "3.8.8"
  }
 },
 "nbformat": 4,
 "nbformat_minor": 5
}
