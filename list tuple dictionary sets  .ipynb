{
 "cells": [
  {
   "cell_type": "code",
   "execution_count": 1,
   "id": "56c760f2",
   "metadata": {},
   "outputs": [],
   "source": [
    "list =[1,2,4]"
   ]
  },
  {
   "cell_type": "code",
   "execution_count": 2,
   "id": "483dd004",
   "metadata": {},
   "outputs": [],
   "source": [
    "list1=[1,2.3,'hello']"
   ]
  },
  {
   "cell_type": "code",
   "execution_count": 3,
   "id": "ed1ba112",
   "metadata": {},
   "outputs": [
    {
     "data": {
      "text/plain": [
       "False"
      ]
     },
     "execution_count": 3,
     "metadata": {},
     "output_type": "execute_result"
    }
   ],
   "source": [
    "li1=[1,2,3,4]\n",
    "ls2=[2,1,3,4]\n",
    "li1==ls2"
   ]
  },
  {
   "cell_type": "code",
   "execution_count": 4,
   "id": "64024ddb",
   "metadata": {},
   "outputs": [],
   "source": [
    "###  startting index of list is 0"
   ]
  },
  {
   "cell_type": "code",
   "execution_count": 8,
   "id": "47690c62",
   "metadata": {},
   "outputs": [
    {
     "data": {
      "text/plain": [
       "1"
      ]
     },
     "execution_count": 8,
     "metadata": {},
     "output_type": "execute_result"
    }
   ],
   "source": [
    "list[0]"
   ]
  },
  {
   "cell_type": "code",
   "execution_count": 9,
   "id": "070f10e4",
   "metadata": {},
   "outputs": [],
   "source": [
    "list2=[1,[2,3,4],5]   #####  NESTED LIST"
   ]
  },
  {
   "cell_type": "code",
   "execution_count": 12,
   "id": "dfcc6ca6",
   "metadata": {},
   "outputs": [],
   "source": [
    "list.append(7)     ###  list are mutable"
   ]
  },
  {
   "cell_type": "code",
   "execution_count": 11,
   "id": "e4bbecc5",
   "metadata": {},
   "outputs": [
    {
     "data": {
      "text/plain": [
       "[1, 2, 4, 7]"
      ]
     },
     "execution_count": 11,
     "metadata": {},
     "output_type": "execute_result"
    }
   ],
   "source": [
    "list"
   ]
  },
  {
   "cell_type": "code",
   "execution_count": 13,
   "id": "29758775",
   "metadata": {},
   "outputs": [],
   "source": [
    "##  list is dynamic\n",
    "## when we add element it grow when we delete element it shrinks"
   ]
  },
  {
   "cell_type": "code",
   "execution_count": 14,
   "id": "b56749ea",
   "metadata": {},
   "outputs": [],
   "source": [
    "tp=(1,2,3,4)"
   ]
  },
  {
   "cell_type": "code",
   "execution_count": 17,
   "id": "c079ffab",
   "metadata": {},
   "outputs": [
    {
     "ename": "AttributeError",
     "evalue": "'tuple' object has no attribute 'append'",
     "output_type": "error",
     "traceback": [
      "\u001b[1;31m---------------------------------------------------------------------------\u001b[0m",
      "\u001b[1;31mAttributeError\u001b[0m                            Traceback (most recent call last)",
      "\u001b[1;32m<ipython-input-17-4aa62bf33559>\u001b[0m in \u001b[0;36m<module>\u001b[1;34m\u001b[0m\n\u001b[1;32m----> 1\u001b[1;33m \u001b[0mtp\u001b[0m\u001b[1;33m.\u001b[0m\u001b[0mappend\u001b[0m\u001b[1;33m(\u001b[0m\u001b[1;36m4\u001b[0m\u001b[1;33m)\u001b[0m   \u001b[1;31m###3 tuple is not mutable\u001b[0m\u001b[1;33m\u001b[0m\u001b[1;33m\u001b[0m\u001b[0m\n\u001b[0m",
      "\u001b[1;31mAttributeError\u001b[0m: 'tuple' object has no attribute 'append'"
     ]
    }
   ],
   "source": [
    "tp.append(4)   ### tuple is not mutable"
   ]
  },
  {
   "cell_type": "code",
   "execution_count": 16,
   "id": "8feaec73",
   "metadata": {},
   "outputs": [
    {
     "data": {
      "text/plain": [
       "(1, 2, 3, 4)"
      ]
     },
     "execution_count": 16,
     "metadata": {},
     "output_type": "execute_result"
    }
   ],
   "source": [
    "tp"
   ]
  },
  {
   "cell_type": "code",
   "execution_count": 18,
   "id": "dc4c761f",
   "metadata": {},
   "outputs": [
    {
     "data": {
      "text/plain": [
       "tuple"
      ]
     },
     "execution_count": 18,
     "metadata": {},
     "output_type": "execute_result"
    }
   ],
   "source": [
    "type(tp)"
   ]
  },
  {
   "cell_type": "code",
   "execution_count": 19,
   "id": "a3d33c3a",
   "metadata": {},
   "outputs": [],
   "source": [
    "tp2=(2)"
   ]
  },
  {
   "cell_type": "code",
   "execution_count": 20,
   "id": "3bc8dd27",
   "metadata": {},
   "outputs": [
    {
     "data": {
      "text/plain": [
       "int"
      ]
     },
     "execution_count": 20,
     "metadata": {},
     "output_type": "execute_result"
    }
   ],
   "source": [
    "type(tp2)"
   ]
  },
  {
   "cell_type": "code",
   "execution_count": 21,
   "id": "145c88a0",
   "metadata": {},
   "outputs": [],
   "source": [
    "# to create a tuple using single element use a comma at last"
   ]
  },
  {
   "cell_type": "code",
   "execution_count": 22,
   "id": "835578a1",
   "metadata": {},
   "outputs": [],
   "source": [
    "tp3=(2,)"
   ]
  },
  {
   "cell_type": "code",
   "execution_count": 23,
   "id": "01de3ca8",
   "metadata": {},
   "outputs": [
    {
     "data": {
      "text/plain": [
       "tuple"
      ]
     },
     "execution_count": 23,
     "metadata": {},
     "output_type": "execute_result"
    }
   ],
   "source": [
    "type(tp3)"
   ]
  },
  {
   "cell_type": "code",
   "execution_count": 24,
   "id": "f9aed578",
   "metadata": {},
   "outputs": [],
   "source": [
    "### tuple is faster than the list\n",
    "#### tuple protects against accidental modification"
   ]
  },
  {
   "cell_type": "code",
   "execution_count": 26,
   "id": "7f9ec383",
   "metadata": {},
   "outputs": [],
   "source": [
    "#  dict={key1:value1,key2:value2}\n",
    "#  values can be mutable but key are always immutable"
   ]
  },
  {
   "cell_type": "code",
   "execution_count": 27,
   "id": "4d0b24c6",
   "metadata": {},
   "outputs": [
    {
     "data": {
      "text/plain": [
       "dict"
      ]
     },
     "execution_count": 27,
     "metadata": {},
     "output_type": "execute_result"
    }
   ],
   "source": [
    "d={}\n",
    "type(d)"
   ]
  },
  {
   "cell_type": "code",
   "execution_count": 28,
   "id": "dd756327",
   "metadata": {},
   "outputs": [],
   "source": [
    "d={\"name\":\"swetanshu\"}"
   ]
  },
  {
   "cell_type": "code",
   "execution_count": 29,
   "id": "d0c95b48",
   "metadata": {},
   "outputs": [
    {
     "data": {
      "text/plain": [
       "{'name': 'swetanshu'}"
      ]
     },
     "execution_count": 29,
     "metadata": {},
     "output_type": "execute_result"
    }
   ],
   "source": [
    "d"
   ]
  },
  {
   "cell_type": "code",
   "execution_count": 31,
   "id": "ff0e04d6",
   "metadata": {},
   "outputs": [],
   "source": [
    "d=dict()"
   ]
  },
  {
   "cell_type": "code",
   "execution_count": 32,
   "id": "f7331541",
   "metadata": {},
   "outputs": [],
   "source": [
    "d={\"j\":1,\"k\":2,\"j\":2}"
   ]
  },
  {
   "cell_type": "code",
   "execution_count": 33,
   "id": "8b50e7bd",
   "metadata": {},
   "outputs": [
    {
     "data": {
      "text/plain": [
       "{'j': 2, 'k': 2}"
      ]
     },
     "execution_count": 33,
     "metadata": {},
     "output_type": "execute_result"
    }
   ],
   "source": [
    "d"
   ]
  },
  {
   "cell_type": "code",
   "execution_count": 35,
   "id": "03a7a86a",
   "metadata": {},
   "outputs": [
    {
     "ename": "TypeError",
     "evalue": "unhashable type: 'list'",
     "output_type": "error",
     "traceback": [
      "\u001b[1;31m---------------------------------------------------------------------------\u001b[0m",
      "\u001b[1;31mTypeError\u001b[0m                                 Traceback (most recent call last)",
      "\u001b[1;32m<ipython-input-35-d902296d07d6>\u001b[0m in \u001b[0;36m<module>\u001b[1;34m\u001b[0m\n\u001b[1;32m----> 1\u001b[1;33m \u001b[0md\u001b[0m\u001b[1;33m=\u001b[0m\u001b[1;33m{\u001b[0m\u001b[1;33m[\u001b[0m\u001b[1;36m1\u001b[0m\u001b[1;33m,\u001b[0m\u001b[1;36m2\u001b[0m\u001b[1;33m]\u001b[0m\u001b[1;33m:\u001b[0m\u001b[1;34m\"a\"\u001b[0m\u001b[1;33m}\u001b[0m\u001b[1;33m\u001b[0m\u001b[1;33m\u001b[0m\u001b[0m\n\u001b[0m",
      "\u001b[1;31mTypeError\u001b[0m: unhashable type: 'list'"
     ]
    }
   ],
   "source": [
    "d={[1,2]:\"a\"}      ###   key used should be immutable "
   ]
  },
  {
   "cell_type": "code",
   "execution_count": 36,
   "id": "324e9b0a",
   "metadata": {},
   "outputs": [],
   "source": [
    "d={\"1\":2,\"3\":4}"
   ]
  },
  {
   "cell_type": "code",
   "execution_count": 38,
   "id": "24f66411",
   "metadata": {},
   "outputs": [],
   "source": [
    "d1={\"3\":4,\"1\":2}"
   ]
  },
  {
   "cell_type": "code",
   "execution_count": 39,
   "id": "9eda1110",
   "metadata": {},
   "outputs": [
    {
     "data": {
      "text/plain": [
       "True"
      ]
     },
     "execution_count": 39,
     "metadata": {},
     "output_type": "execute_result"
    }
   ],
   "source": [
    "d==d1"
   ]
  },
  {
   "cell_type": "code",
   "execution_count": 41,
   "id": "c0a11f2c",
   "metadata": {},
   "outputs": [
    {
     "data": {
      "text/plain": [
       "2"
      ]
     },
     "execution_count": 41,
     "metadata": {},
     "output_type": "execute_result"
    }
   ],
   "source": [
    "####  access \n",
    "d[\"1\"]          ####   mention in square bracket the key"
   ]
  },
  {
   "cell_type": "code",
   "execution_count": 42,
   "id": "211f003b",
   "metadata": {},
   "outputs": [],
   "source": [
    "del d[\"1\"]"
   ]
  },
  {
   "cell_type": "code",
   "execution_count": 43,
   "id": "02956bac",
   "metadata": {},
   "outputs": [
    {
     "data": {
      "text/plain": [
       "{'3': 4}"
      ]
     },
     "execution_count": 43,
     "metadata": {},
     "output_type": "execute_result"
    }
   ],
   "source": [
    "d"
   ]
  },
  {
   "cell_type": "code",
   "execution_count": 44,
   "id": "a135203a",
   "metadata": {},
   "outputs": [],
   "source": [
    "d={}"
   ]
  },
  {
   "cell_type": "code",
   "execution_count": 45,
   "id": "8f64f30c",
   "metadata": {},
   "outputs": [],
   "source": [
    "d[\"1\"]=1"
   ]
  },
  {
   "cell_type": "code",
   "execution_count": 46,
   "id": "7298f361",
   "metadata": {},
   "outputs": [
    {
     "data": {
      "text/plain": [
       "{'1': 1}"
      ]
     },
     "execution_count": 46,
     "metadata": {},
     "output_type": "execute_result"
    }
   ],
   "source": [
    "d"
   ]
  },
  {
   "cell_type": "code",
   "execution_count": 47,
   "id": "f687e6d5",
   "metadata": {},
   "outputs": [],
   "source": [
    "#  set"
   ]
  },
  {
   "cell_type": "code",
   "execution_count": 48,
   "id": "d2562489",
   "metadata": {},
   "outputs": [],
   "source": [
    "s=set(\"hgello\")"
   ]
  },
  {
   "cell_type": "code",
   "execution_count": 49,
   "id": "a504eecc",
   "metadata": {},
   "outputs": [
    {
     "data": {
      "text/plain": [
       "set"
      ]
     },
     "execution_count": 49,
     "metadata": {},
     "output_type": "execute_result"
    }
   ],
   "source": [
    "type(s)"
   ]
  },
  {
   "cell_type": "code",
   "execution_count": 50,
   "id": "ff9f42e8",
   "metadata": {},
   "outputs": [],
   "source": [
    "s=set([1,2,45])"
   ]
  },
  {
   "cell_type": "code",
   "execution_count": 51,
   "id": "14febca3",
   "metadata": {},
   "outputs": [
    {
     "data": {
      "text/plain": [
       "set"
      ]
     },
     "execution_count": 51,
     "metadata": {},
     "output_type": "execute_result"
    }
   ],
   "source": [
    "type(s)"
   ]
  },
  {
   "cell_type": "code",
   "execution_count": 53,
   "id": "d679f5c8",
   "metadata": {},
   "outputs": [],
   "source": [
    "s={1,2,3,41,2,34}"
   ]
  },
  {
   "cell_type": "code",
   "execution_count": 54,
   "id": "039eb478",
   "metadata": {},
   "outputs": [
    {
     "data": {
      "text/plain": [
       "{1, 2, 3, 34, 41}"
      ]
     },
     "execution_count": 54,
     "metadata": {},
     "output_type": "execute_result"
    }
   ],
   "source": [
    "s"
   ]
  },
  {
   "cell_type": "code",
   "execution_count": 55,
   "id": "4dda67cd",
   "metadata": {},
   "outputs": [],
   "source": [
    "s={1,2,3,4}\n",
    "s1={2,1,3,4}"
   ]
  },
  {
   "cell_type": "code",
   "execution_count": 57,
   "id": "33314f32",
   "metadata": {},
   "outputs": [
    {
     "data": {
      "text/plain": [
       "True"
      ]
     },
     "execution_count": 57,
     "metadata": {},
     "output_type": "execute_result"
    }
   ],
   "source": [
    "s==s1       #  set is unorderd"
   ]
  },
  {
   "cell_type": "code",
   "execution_count": 58,
   "id": "e8a9951f",
   "metadata": {},
   "outputs": [],
   "source": [
    "s.add(123)"
   ]
  },
  {
   "cell_type": "code",
   "execution_count": 59,
   "id": "75c71598",
   "metadata": {},
   "outputs": [
    {
     "data": {
      "text/plain": [
       "{1, 2, 3, 4, 123}"
      ]
     },
     "execution_count": 59,
     "metadata": {},
     "output_type": "execute_result"
    }
   ],
   "source": [
    "s"
   ]
  },
  {
   "cell_type": "code",
   "execution_count": 60,
   "id": "09965407",
   "metadata": {},
   "outputs": [],
   "source": [
    "###s  set can have only immutable type elemtns\n",
    "###  we cant have set inside set"
   ]
  },
  {
   "cell_type": "code",
   "execution_count": null,
   "id": "2a26872f",
   "metadata": {},
   "outputs": [],
   "source": []
  }
 ],
 "metadata": {
  "kernelspec": {
   "display_name": "Python 3",
   "language": "python",
   "name": "python3"
  },
  "language_info": {
   "codemirror_mode": {
    "name": "ipython",
    "version": 3
   },
   "file_extension": ".py",
   "mimetype": "text/x-python",
   "name": "python",
   "nbconvert_exporter": "python",
   "pygments_lexer": "ipython3",
   "version": "3.8.8"
  }
 },
 "nbformat": 4,
 "nbformat_minor": 5
}
